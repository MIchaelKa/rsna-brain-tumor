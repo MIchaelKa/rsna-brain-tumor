{
 "cells": [
  {
   "cell_type": "markdown",
   "id": "7BboyqAJjCxR",
   "metadata": {
    "id": "7BboyqAJjCxR"
   },
   "source": [
    "# Collab setup"
   ]
  },
  {
   "cell_type": "code",
   "execution_count": 17,
   "id": "TsGh1A17jXS6",
   "metadata": {
    "colab": {
     "base_uri": "https://localhost:8080/"
    },
    "executionInfo": {
     "elapsed": 4010,
     "status": "ok",
     "timestamp": 1629912198737,
     "user": {
      "displayName": "Michael Kalinin",
      "photoUrl": "",
      "userId": "11292695338697887397"
     },
     "user_tz": -180
    },
    "id": "TsGh1A17jXS6",
    "outputId": "d8e8927b-4350-4964-d2ea-f4421439f598"
   },
   "outputs": [
    {
     "name": "stdout",
     "output_type": "stream",
     "text": [
      "No GPU available, using the CPU instead.\n"
     ]
    }
   ],
   "source": [
    "import torch\n",
    "def get_device():\n",
    "    if torch.cuda.is_available():       \n",
    "        device = torch.device(\"cuda\")\n",
    "        print('There are %d GPU(s) available.' % torch.cuda.device_count())\n",
    "        print('We will use the GPU:', torch.cuda.get_device_name(0))\n",
    "    else:\n",
    "        device = torch.device(\"cpu\")\n",
    "        print('No GPU available, using the CPU instead.')\n",
    "\n",
    "    return device\n",
    "\n",
    "device = get_device()"
   ]
  },
  {
   "cell_type": "code",
   "execution_count": 2,
   "id": "YkViSg6EjKkR",
   "metadata": {
    "colab": {
     "base_uri": "https://localhost:8080/"
    },
    "executionInfo": {
     "elapsed": 31669,
     "status": "ok",
     "timestamp": 1629912233434,
     "user": {
      "displayName": "Michael Kalinin",
      "photoUrl": "",
      "userId": "11292695338697887397"
     },
     "user_tz": -180
    },
    "id": "YkViSg6EjKkR",
    "outputId": "1933d90f-ca0e-4c14-fbf6-0abe68a84e02"
   },
   "outputs": [
    {
     "name": "stdout",
     "output_type": "stream",
     "text": [
      "Mounted at /content/drive/\n"
     ]
    }
   ],
   "source": [
    "from google.colab import drive\n",
    "drive.mount('/content/drive/')"
   ]
  },
  {
   "cell_type": "markdown",
   "id": "PqdgZT05kLUu",
   "metadata": {
    "id": "PqdgZT05kLUu"
   },
   "source": [
    "## Copy and load the data"
   ]
  },
  {
   "cell_type": "code",
   "execution_count": 3,
   "id": "72ErfxIoUaOb",
   "metadata": {
    "colab": {
     "base_uri": "https://localhost:8080/"
    },
    "executionInfo": {
     "elapsed": 475,
     "status": "ok",
     "timestamp": 1629912237264,
     "user": {
      "displayName": "Michael Kalinin",
      "photoUrl": "",
      "userId": "11292695338697887397"
     },
     "user_tz": -180
    },
    "id": "72ErfxIoUaOb",
    "outputId": "c34c6d48-4271-40bc-91ea-23fa65ff9d14"
   },
   "outputs": [
    {
     "name": "stdout",
     "output_type": "stream",
     "text": [
      "drive  sample_data\n"
     ]
    }
   ],
   "source": [
    "!ls"
   ]
  },
  {
   "cell_type": "code",
   "execution_count": 4,
   "id": "7hjP-XorjuaL",
   "metadata": {
    "executionInfo": {
     "elapsed": 26,
     "status": "ok",
     "timestamp": 1629912237704,
     "user": {
      "displayName": "Michael Kalinin",
      "photoUrl": "",
      "userId": "11292695338697887397"
     },
     "user_tz": -180
    },
    "id": "7hjP-XorjuaL"
   },
   "outputs": [],
   "source": [
    "BASE_PATH = '/content/drive/MyDrive/ai/rsna-brain-tumor/'"
   ]
  },
  {
   "cell_type": "code",
   "execution_count": 5,
   "id": "W8MifaxJkVxm",
   "metadata": {
    "colab": {
     "base_uri": "https://localhost:8080/"
    },
    "executionInfo": {
     "elapsed": 627,
     "status": "ok",
     "timestamp": 1629912238308,
     "user": {
      "displayName": "Michael Kalinin",
      "photoUrl": "",
      "userId": "11292695338697887397"
     },
     "user_tz": -180
    },
    "id": "W8MifaxJkVxm",
    "outputId": "82a998e8-1798-4673-ed37-3d53930ecf1c"
   },
   "outputs": [
    {
     "name": "stdout",
     "output_type": "stream",
     "text": [
      "rsna-brain-tumor\t   training_experiments.ipynb\n",
      "rsna-brain-tumor-data.zip  train_labels.csv\n"
     ]
    }
   ],
   "source": [
    "!ls {BASE_PATH}"
   ]
  },
  {
   "cell_type": "code",
   "execution_count": 6,
   "id": "izBADrwLkWRs",
   "metadata": {
    "executionInfo": {
     "elapsed": 2,
     "status": "ok",
     "timestamp": 1629912238309,
     "user": {
      "displayName": "Michael Kalinin",
      "photoUrl": "",
      "userId": "11292695338697887397"
     },
     "user_tz": -180
    },
    "id": "izBADrwLkWRs"
   },
   "outputs": [],
   "source": [
    "file = BASE_PATH + 'rsna-brain-tumor-data.zip'"
   ]
  },
  {
   "cell_type": "code",
   "execution_count": 7,
   "id": "x48kG0iPkr62",
   "metadata": {
    "colab": {
     "base_uri": "https://localhost:8080/"
    },
    "executionInfo": {
     "elapsed": 254681,
     "status": "ok",
     "timestamp": 1629912492988,
     "user": {
      "displayName": "Michael Kalinin",
      "photoUrl": "",
      "userId": "11292695338697887397"
     },
     "user_tz": -180
    },
    "id": "x48kG0iPkr62",
    "outputId": "0a802c4d-9e0f-4968-95e3-3f17b77eff51"
   },
   "outputs": [
    {
     "name": "stdout",
     "output_type": "stream",
     "text": [
      "CPU times: user 1.39 s, sys: 296 ms, total: 1.69 s\n",
      "Wall time: 4min 14s\n"
     ]
    }
   ],
   "source": [
    "%%time\n",
    "!cp {file} ."
   ]
  },
  {
   "cell_type": "code",
   "execution_count": 8,
   "id": "nYbnX6Gakhgt",
   "metadata": {
    "colab": {
     "base_uri": "https://localhost:8080/"
    },
    "executionInfo": {
     "elapsed": 3375,
     "status": "ok",
     "timestamp": 1629912496327,
     "user": {
      "displayName": "Michael Kalinin",
      "photoUrl": "",
      "userId": "11292695338697887397"
     },
     "user_tz": -180
    },
    "id": "nYbnX6Gakhgt",
    "outputId": "126867d5-af2d-47c3-c831-9444bb741959"
   },
   "outputs": [
    {
     "name": "stdout",
     "output_type": "stream",
     "text": [
      "drive  rsna-brain-tumor-data.zip  sample_data\n"
     ]
    }
   ],
   "source": [
    "!ls"
   ]
  },
  {
   "cell_type": "code",
   "execution_count": 9,
   "id": "TmWnV9U3lu7N",
   "metadata": {
    "colab": {
     "base_uri": "https://localhost:8080/"
    },
    "executionInfo": {
     "elapsed": 159603,
     "status": "ok",
     "timestamp": 1629912655920,
     "user": {
      "displayName": "Michael Kalinin",
      "photoUrl": "",
      "userId": "11292695338697887397"
     },
     "user_tz": -180
    },
    "id": "TmWnV9U3lu7N",
    "outputId": "b1b6ea31-a018-456f-ca79-d7da5f29267b"
   },
   "outputs": [
    {
     "name": "stdout",
     "output_type": "stream",
     "text": [
      "CPU times: user 943 ms, sys: 136 ms, total: 1.08 s\n",
      "Wall time: 2min 39s\n"
     ]
    }
   ],
   "source": [
    "%%time\n",
    "!unzip ./rsna-brain-tumor-data.zip -d ./rsna-brain-tumor-data > /dev/null"
   ]
  },
  {
   "cell_type": "code",
   "execution_count": 10,
   "id": "cIi5HRoyor7l",
   "metadata": {
    "executionInfo": {
     "elapsed": 14,
     "status": "ok",
     "timestamp": 1629912655921,
     "user": {
      "displayName": "Michael Kalinin",
      "photoUrl": "",
      "userId": "11292695338697887397"
     },
     "user_tz": -180
    },
    "id": "cIi5HRoyor7l"
   },
   "outputs": [],
   "source": [
    "file = BASE_PATH + 'train_labels.csv'"
   ]
  },
  {
   "cell_type": "code",
   "execution_count": 11,
   "id": "7Q3tPvLNop7o",
   "metadata": {
    "colab": {
     "base_uri": "https://localhost:8080/"
    },
    "executionInfo": {
     "elapsed": 524,
     "status": "ok",
     "timestamp": 1629912656434,
     "user": {
      "displayName": "Michael Kalinin",
      "photoUrl": "",
      "userId": "11292695338697887397"
     },
     "user_tz": -180
    },
    "id": "7Q3tPvLNop7o",
    "outputId": "83c0dc89-3a3a-46cf-f3e1-7e70c943eeca"
   },
   "outputs": [
    {
     "name": "stdout",
     "output_type": "stream",
     "text": [
      "CPU times: user 6.43 ms, sys: 10.3 ms, total: 16.7 ms\n",
      "Wall time: 818 ms\n"
     ]
    }
   ],
   "source": [
    "%%time\n",
    "!cp {file} ."
   ]
  },
  {
   "cell_type": "markdown",
   "id": "yXOZzMNgjHqs",
   "metadata": {
    "id": "yXOZzMNgjHqs"
   },
   "source": [
    "# Imports"
   ]
  },
  {
   "cell_type": "code",
   "execution_count": 1,
   "id": "generous-cricket",
   "metadata": {
    "executionInfo": {
     "elapsed": 1814,
     "status": "ok",
     "timestamp": 1629912676277,
     "user": {
      "displayName": "Michael Kalinin",
      "photoUrl": "",
      "userId": "11292695338697887397"
     },
     "user_tz": -180
    },
    "id": "generous-cricket"
   },
   "outputs": [],
   "source": [
    "import os\n",
    "import pandas as pd\n",
    "import numpy as np\n",
    "\n",
    "import torch\n",
    "import torch.nn as nn\n",
    "\n",
    "from torch.utils.data import Dataset\n",
    "from torch.utils.data import DataLoader\n",
    "\n",
    "from PIL import Image\n",
    "\n",
    "import seaborn as sns\n",
    "import matplotlib.pyplot as plt\n",
    "\n",
    "sns.set()"
   ]
  },
  {
   "cell_type": "code",
   "execution_count": 2,
   "id": "functional-former",
   "metadata": {
    "executionInfo": {
     "elapsed": 599,
     "status": "ok",
     "timestamp": 1629912676874,
     "user": {
      "displayName": "Michael Kalinin",
      "photoUrl": "",
      "userId": "11292695338697887397"
     },
     "user_tz": -180
    },
    "id": "functional-former"
   },
   "outputs": [],
   "source": [
    "# Some more magic so that the notebook will reload external python modules;\n",
    "# see http://stackoverflow.com/questions/1907993/autoreload-of-modules-in-ipython\n",
    "%load_ext autoreload\n",
    "%autoreload 2"
   ]
  },
  {
   "cell_type": "markdown",
   "id": "FVBj3A13pgBI",
   "metadata": {
    "id": "FVBj3A13pgBI"
   },
   "source": [
    "# Import local libs"
   ]
  },
  {
   "cell_type": "code",
   "execution_count": 14,
   "id": "PTTeYn97psJa",
   "metadata": {
    "executionInfo": {
     "elapsed": 685,
     "status": "ok",
     "timestamp": 1629912743853,
     "user": {
      "displayName": "Michael Kalinin",
      "photoUrl": "",
      "userId": "11292695338697887397"
     },
     "user_tz": -180
    },
    "id": "PTTeYn97psJa"
   },
   "outputs": [],
   "source": [
    "os.chdir(\"/content/drive/My Drive/ai/rsna-brain-tumor/rsna-brain-tumor/\")\n",
    "# os.chdir(\"/content/\")"
   ]
  },
  {
   "cell_type": "code",
   "execution_count": 3,
   "id": "lKY5VCeUpihG",
   "metadata": {
    "executionInfo": {
     "elapsed": 7632,
     "status": "ok",
     "timestamp": 1629912752037,
     "user": {
      "displayName": "Michael Kalinin",
      "photoUrl": "",
      "userId": "11292695338697887397"
     },
     "user_tz": -180
    },
    "id": "lKY5VCeUpihG"
   },
   "outputs": [],
   "source": [
    "from train import train_num_iter\n",
    "from utils import get_device, seed_everything\n",
    "\n",
    "from plot_utils import show_trainig_results\n",
    "from plot_utils import show_loss\n",
    "from plot_utils import show_image_3d\n",
    "\n",
    "from dataset import Image3DDataset\n",
    "\n",
    "from model_simple import Simple3DNet\n",
    "from resnet import ResNet3D"
   ]
  },
  {
   "cell_type": "code",
   "execution_count": 4,
   "id": "_gkYbNaX5HCe",
   "metadata": {
    "executionInfo": {
     "elapsed": 32,
     "status": "ok",
     "timestamp": 1629912752039,
     "user": {
      "displayName": "Michael Kalinin",
      "photoUrl": "",
      "userId": "11292695338697887397"
     },
     "user_tz": -180
    },
    "id": "_gkYbNaX5HCe"
   },
   "outputs": [],
   "source": [
    "seed = 2021\n",
    "seed_everything(seed)"
   ]
  },
  {
   "cell_type": "markdown",
   "id": "q9b1Hb4jwBpP",
   "metadata": {
    "id": "q9b1Hb4jwBpP"
   },
   "source": [
    "# Git repo"
   ]
  },
  {
   "cell_type": "code",
   "execution_count": 17,
   "id": "Ec1Ua2tXwECD",
   "metadata": {
    "colab": {
     "base_uri": "https://localhost:8080/"
    },
    "executionInfo": {
     "elapsed": 14696,
     "status": "ok",
     "timestamp": 1629912771515,
     "user": {
      "displayName": "Michael Kalinin",
      "photoUrl": "",
      "userId": "11292695338697887397"
     },
     "user_tz": -180
    },
    "id": "Ec1Ua2tXwECD",
    "outputId": "f9e8ba50-f89d-425b-b468-a081bf69fcab"
   },
   "outputs": [
    {
     "name": "stdout",
     "output_type": "stream",
     "text": [
      "On branch master\n",
      "Your branch is up to date with 'origin/master'.\n",
      "\n",
      "Changes not staged for commit:\n",
      "  (use \"git add <file>...\" to update what will be committed)\n",
      "  (use \"git checkout -- <file>...\" to discard changes in working directory)\n",
      "\n",
      "\t\u001b[31mmodified:   plot_utils.py\u001b[m\n",
      "\t\u001b[31mmodified:   rsna-brain-tumor-train.ipynb\u001b[m\n",
      "\n",
      "no changes added to commit (use \"git add\" and/or \"git commit -a\")\n"
     ]
    }
   ],
   "source": [
    "!git status"
   ]
  },
  {
   "cell_type": "code",
   "execution_count": null,
   "id": "1aumOO6AGRoO",
   "metadata": {
    "colab": {
     "base_uri": "https://localhost:8080/"
    },
    "executionInfo": {
     "elapsed": 287,
     "status": "ok",
     "timestamp": 1629806610211,
     "user": {
      "displayName": "Michael Kalinin",
      "photoUrl": "",
      "userId": "11292695338697887397"
     },
     "user_tz": -180
    },
    "id": "1aumOO6AGRoO",
    "outputId": "06f43c77-3ba8-4c07-b2f8-8eeef6a33510"
   },
   "outputs": [
    {
     "name": "stdout",
     "output_type": "stream",
     "text": [
      "Unstaged changes after reset:\n",
      "M\tmetrics.py\n",
      "M\tmodel_simple.py\n",
      "M\trsna-brain-tumor-train.ipynb\n",
      "M\ttrain.py\n"
     ]
    }
   ],
   "source": [
    "!git diff train.py"
   ]
  },
  {
   "cell_type": "code",
   "execution_count": 158,
   "id": "EiQtJMIU-R0D",
   "metadata": {
    "executionInfo": {
     "elapsed": 1078,
     "status": "ok",
     "timestamp": 1629896358660,
     "user": {
      "displayName": "Michael Kalinin",
      "photoUrl": "",
      "userId": "11292695338697887397"
     },
     "user_tz": -180
    },
    "id": "EiQtJMIU-R0D"
   },
   "outputs": [],
   "source": [
    "!git add ."
   ]
  },
  {
   "cell_type": "code",
   "execution_count": 159,
   "id": "xdsJEqhR-hna",
   "metadata": {
    "executionInfo": {
     "elapsed": 361,
     "status": "ok",
     "timestamp": 1629896359014,
     "user": {
      "displayName": "Michael Kalinin",
      "photoUrl": "",
      "userId": "11292695338697887397"
     },
     "user_tz": -180
    },
    "id": "xdsJEqhR-hna"
   },
   "outputs": [],
   "source": [
    "!git config --global user.email \"michael.kalinin.nn@gmail.com\"\n",
    "!git config --global user.name \"michaelka\""
   ]
  },
  {
   "cell_type": "code",
   "execution_count": 160,
   "id": "pxSAe5b6hM_6",
   "metadata": {
    "colab": {
     "base_uri": "https://localhost:8080/"
    },
    "executionInfo": {
     "elapsed": 2046,
     "status": "ok",
     "timestamp": 1629896382368,
     "user": {
      "displayName": "Michael Kalinin",
      "photoUrl": "",
      "userId": "11292695338697887397"
     },
     "user_tz": -180
    },
    "id": "pxSAe5b6hM_6",
    "outputId": "51162584-b16f-41b7-e792-e8fbf53a40fd"
   },
   "outputs": [
    {
     "name": "stdout",
     "output_type": "stream",
     "text": [
      "[master d227fdb] [collab] Training + Validation.\n",
      " 5 files changed, 97 insertions(+), 3770 deletions(-)\n",
      " rewrite rsna-brain-tumor-train.ipynb (90%)\n"
     ]
    }
   ],
   "source": [
    "!git commit -m \"[collab] Training + Validation.\""
   ]
  },
  {
   "cell_type": "code",
   "execution_count": 161,
   "id": "4CDJuv3c-juC",
   "metadata": {
    "colab": {
     "base_uri": "https://localhost:8080/"
    },
    "executionInfo": {
     "elapsed": 3208,
     "status": "ok",
     "timestamp": 1629896385566,
     "user": {
      "displayName": "Michael Kalinin",
      "photoUrl": "",
      "userId": "11292695338697887397"
     },
     "user_tz": -180
    },
    "id": "4CDJuv3c-juC",
    "outputId": "b579f7f1-c605-4414-8b70-30f8978963fc"
   },
   "outputs": [
    {
     "name": "stdout",
     "output_type": "stream",
     "text": [
      "Counting objects: 7, done.\n",
      "Delta compression using up to 2 threads.\n",
      "Compressing objects:  14% (1/7)   \r",
      "Compressing objects:  28% (2/7)   \r",
      "Compressing objects:  42% (3/7)   \r",
      "Compressing objects:  57% (4/7)   \r",
      "Compressing objects:  71% (5/7)   \r",
      "Compressing objects:  85% (6/7)   \r",
      "Compressing objects: 100% (7/7)   \r",
      "Compressing objects: 100% (7/7), done.\n",
      "Writing objects:  14% (1/7)   \r",
      "Writing objects:  28% (2/7)   \r",
      "Writing objects:  42% (3/7)   \r",
      "Writing objects:  57% (4/7)   \r",
      "Writing objects:  71% (5/7)   \r",
      "Writing objects:  85% (6/7)   \r",
      "Writing objects: 100% (7/7)   \r",
      "Writing objects: 100% (7/7), 553.37 KiB | 10.85 MiB/s, done.\n",
      "Total 7 (delta 4), reused 0 (delta 0)\n",
      "remote: Resolving deltas: 100% (4/4), completed with 4 local objects.\u001b[K\n",
      "To https://github.com/MIchaelKa/rsna-brain-tumor.git\n",
      "   66a18e7..d227fdb  master -> master\n"
     ]
    }
   ],
   "source": [
    "!git push origin master"
   ]
  },
  {
   "cell_type": "markdown",
   "id": "average-alpha",
   "metadata": {
    "id": "average-alpha"
   },
   "source": [
    "# Setup dataset"
   ]
  },
  {
   "cell_type": "code",
   "execution_count": 5,
   "id": "spectacular-belfast",
   "metadata": {
    "executionInfo": {
     "elapsed": 819,
     "status": "ok",
     "timestamp": 1629912787056,
     "user": {
      "displayName": "Michael Kalinin",
      "photoUrl": "",
      "userId": "11292695338697887397"
     },
     "user_tz": -180
    },
    "id": "spectacular-belfast"
   },
   "outputs": [],
   "source": [
    "IMG_SIZE = 256\n",
    "\n",
    "# TODO add isCollab check\n",
    "PATH_TO_DATA = './data/'\n",
    "# PATH_TO_DATA = '/content/'\n",
    "\n",
    "IMG_PATH_TRAIN = os.path.join(PATH_TO_DATA, 'rsna-brain-tumor-data', 'train')\n",
    "IMG_PATH_TEST = os.path.join(PATH_TO_DATA, 'rsna-brain-tumor-data', 'test')"
   ]
  },
  {
   "cell_type": "code",
   "execution_count": 6,
   "id": "choice-cleveland",
   "metadata": {
    "colab": {
     "base_uri": "https://localhost:8080/"
    },
    "executionInfo": {
     "elapsed": 10,
     "status": "ok",
     "timestamp": 1629912787629,
     "user": {
      "displayName": "Michael Kalinin",
      "photoUrl": "",
      "userId": "11292695338697887397"
     },
     "user_tz": -180
    },
    "id": "choice-cleveland",
    "outputId": "897f2841-f3c8-4478-cbcc-e35493de549a"
   },
   "outputs": [
    {
     "data": {
      "text/plain": [
       "(585, 2)"
      ]
     },
     "execution_count": 6,
     "metadata": {},
     "output_type": "execute_result"
    }
   ],
   "source": [
    "train_labels_df = pd.read_csv(PATH_TO_DATA + 'train_labels.csv')\n",
    "train_labels_df.shape"
   ]
  },
  {
   "cell_type": "code",
   "execution_count": 20,
   "id": "CQDtESSfVmpq",
   "metadata": {
    "colab": {
     "base_uri": "https://localhost:8080/"
    },
    "executionInfo": {
     "elapsed": 4,
     "status": "ok",
     "timestamp": 1629912788095,
     "user": {
      "displayName": "Michael Kalinin",
      "photoUrl": "",
      "userId": "11292695338697887397"
     },
     "user_tz": -180
    },
    "id": "CQDtESSfVmpq",
    "outputId": "8faf410b-bad6-4872-ea79-dbe887bc5d0a"
   },
   "outputs": [
    {
     "name": "stdout",
     "output_type": "stream",
     "text": [
      "(585, 2)\n",
      "(582, 2)\n"
     ]
    }
   ],
   "source": [
    "print(train_labels_df.shape)\n",
    "train_labels_df = train_labels_df.drop(train_labels_df[train_labels_df['BraTS21ID'] == 109].index)\n",
    "train_labels_df = train_labels_df.drop(train_labels_df[train_labels_df['BraTS21ID'] == 709].index)\n",
    "train_labels_df = train_labels_df.drop(train_labels_df[train_labels_df['BraTS21ID'] == 123].index)\n",
    "print(train_labels_df.shape)"
   ]
  },
  {
   "cell_type": "code",
   "execution_count": 21,
   "id": "0ztMi1sdVnyD",
   "metadata": {
    "executionInfo": {
     "elapsed": 466,
     "status": "ok",
     "timestamp": 1629912791081,
     "user": {
      "displayName": "Michael Kalinin",
      "photoUrl": "",
      "userId": "11292695338697887397"
     },
     "user_tz": -180
    },
    "id": "0ztMi1sdVnyD"
   },
   "outputs": [],
   "source": [
    "def row_to_mri_type_count(row, mri_type):\n",
    "    case_id = row['BraTS21ID']\n",
    "    case_id = f'{case_id:0>5d}'\n",
    "    images_path = os.path.join(IMG_PATH_TRAIN, case_id, mri_type)\n",
    "    try: \n",
    "        count = len(os.listdir(images_path))\n",
    "    except:\n",
    "        return 0\n",
    "       \n",
    "    return count"
   ]
  },
  {
   "cell_type": "code",
   "execution_count": 22,
   "id": "svgj2Yt_VyJl",
   "metadata": {
    "executionInfo": {
     "elapsed": 8,
     "status": "ok",
     "timestamp": 1629912791082,
     "user": {
      "displayName": "Michael Kalinin",
      "photoUrl": "",
      "userId": "11292695338697887397"
     },
     "user_tz": -180
    },
    "id": "svgj2Yt_VyJl"
   },
   "outputs": [],
   "source": [
    "MRI_TYPES = ['FLAIR', 'T1w', 'T1wCE', 'T2w']\n",
    "\n",
    "def get_mri_count():\n",
    "    for mri_type in MRI_TYPES:\n",
    "        train_labels_df[f'{mri_type}_count'] = train_labels_df.apply(\n",
    "            lambda row: row_to_mri_type_count(row, mri_type),\n",
    "            axis=1\n",
    "        )\n",
    "        \n",
    "get_mri_count()"
   ]
  },
  {
   "cell_type": "code",
   "execution_count": 23,
   "id": "lesser-surfing",
   "metadata": {
    "executionInfo": {
     "elapsed": 492,
     "status": "ok",
     "timestamp": 1629912797977,
     "user": {
      "displayName": "Michael Kalinin",
      "photoUrl": "",
      "userId": "11292695338697887397"
     },
     "user_tz": -180
    },
    "id": "lesser-surfing"
   },
   "outputs": [],
   "source": [
    "from torchvision import transforms as T\n",
    "\n",
    "def get_train_transform(img_size):\n",
    "    transform = T.Compose([\n",
    "        T.Resize((img_size, img_size)),\n",
    "#         T.ToTensor(),\n",
    "        # T.Normalize(mean=[0.485, 0.456, 0.406],\n",
    "        #             std=[0.229, 0.224, 0.225])\n",
    "    ])\n",
    "    return transform"
   ]
  },
  {
   "cell_type": "code",
   "execution_count": 24,
   "id": "synthetic-calculation",
   "metadata": {
    "colab": {
     "base_uri": "https://localhost:8080/"
    },
    "executionInfo": {
     "elapsed": 7,
     "status": "ok",
     "timestamp": 1629912797977,
     "user": {
      "displayName": "Michael Kalinin",
      "photoUrl": "",
      "userId": "11292695338697887397"
     },
     "user_tz": -180
    },
    "id": "synthetic-calculation",
    "outputId": "0f207c84-0aad-4c00-cb82-5badd79d3cfa"
   },
   "outputs": [
    {
     "data": {
      "text/plain": [
       "582"
      ]
     },
     "execution_count": 24,
     "metadata": {},
     "output_type": "execute_result"
    }
   ],
   "source": [
    "max_depth = 64\n",
    "train_dataset = Image3DDataset(train_labels_df, IMG_PATH_TRAIN, max_depth, get_train_transform(IMG_SIZE))\n",
    "len(train_dataset)"
   ]
  },
  {
   "cell_type": "code",
   "execution_count": 25,
   "id": "stuck-chinese",
   "metadata": {
    "colab": {
     "base_uri": "https://localhost:8080/"
    },
    "executionInfo": {
     "elapsed": 6,
     "status": "ok",
     "timestamp": 1629912797978,
     "user": {
      "displayName": "Michael Kalinin",
      "photoUrl": "",
      "userId": "11292695338697887397"
     },
     "user_tz": -180
    },
    "id": "stuck-chinese",
    "outputId": "dc56d5f8-a78c-4a81-8cbe-0ed963533d1c"
   },
   "outputs": [
    {
     "data": {
      "text/plain": [
       "(numpy.ndarray, (1, 64, 256, 256), 0)"
      ]
     },
     "execution_count": 25,
     "metadata": {},
     "output_type": "execute_result"
    }
   ],
   "source": [
    "image, label = train_dataset[2]\n",
    "type(image), image.shape, label"
   ]
  },
  {
   "cell_type": "code",
   "execution_count": 26,
   "id": "third-crawford",
   "metadata": {
    "colab": {
     "base_uri": "https://localhost:8080/",
     "height": 268
    },
    "executionInfo": {
     "elapsed": 441,
     "status": "ok",
     "timestamp": 1629912798415,
     "user": {
      "displayName": "Michael Kalinin",
      "photoUrl": "",
      "userId": "11292695338697887397"
     },
     "user_tz": -180
    },
    "id": "third-crawford",
    "outputId": "758eaacc-ac0a-4ad8-9e3e-f592378d567f"
   },
   "outputs": [
    {
     "data": {
      "image/png": "[encoded data removed]",
      "text/plain": [
       "<Figure size 432x288 with 1 Axes>"
      ]
     },
     "metadata": {},
     "output_type": "display_data"
    }
   ],
   "source": [
    "plt.hist(image[0, 40].reshape(-1))\n",
    "plt.show()"
   ]
  },
  {
   "cell_type": "code",
   "execution_count": 27,
   "id": "QtEH33uzraXC",
   "metadata": {
    "colab": {
     "base_uri": "https://localhost:8080/",
     "height": 750
    },
    "executionInfo": {
     "elapsed": 13021,
     "status": "ok",
     "timestamp": 1629912813650,
     "user": {
      "displayName": "Michael Kalinin",
      "photoUrl": "",
      "userId": "11292695338697887397"
     },
     "user_tz": -180
    },
    "id": "QtEH33uzraXC",
    "outputId": "6915f500-cf6c-4765-9cdb-f0edb49f3354"
   },
   "outputs": [
    {
     "name": "stdout",
     "output_type": "stream",
     "text": [
      "shape: (64, 256, 256)\n"
     ]
    },
    {
     "data": {
      "image/png": "[encoded data removed]",
      "text/plain": [
       "<Figure size 1440x1008 with 70 Axes>"
      ]
     },
     "metadata": {},
     "output_type": "display_data"
    }
   ],
   "source": [
    "show_image_3d(image)"
   ]
  },
  {
   "cell_type": "code",
   "execution_count": 28,
   "id": "exact-chester",
   "metadata": {
    "colab": {
     "base_uri": "https://localhost:8080/"
    },
    "executionInfo": {
     "elapsed": 21,
     "status": "ok",
     "timestamp": 1629912813650,
     "user": {
      "displayName": "Michael Kalinin",
      "photoUrl": "",
      "userId": "11292695338697887397"
     },
     "user_tz": -180
    },
    "id": "exact-chester",
    "outputId": "6df88eaa-f163-479e-bed5-492b89dd80c8"
   },
   "outputs": [
    {
     "data": {
      "text/plain": [
       "146"
      ]
     },
     "execution_count": 28,
     "metadata": {},
     "output_type": "execute_result"
    }
   ],
   "source": [
    "train_loader = DataLoader(train_dataset, batch_size=4, shuffle=True)\n",
    "len(train_loader)"
   ]
  },
  {
   "cell_type": "code",
   "execution_count": 29,
   "id": "handled-calculator",
   "metadata": {
    "executionInfo": {
     "elapsed": 19,
     "status": "ok",
     "timestamp": 1629912813651,
     "user": {
      "displayName": "Michael Kalinin",
      "photoUrl": "",
      "userId": "11292695338697887397"
     },
     "user_tz": -180
    },
    "id": "handled-calculator"
   },
   "outputs": [],
   "source": [
    "train_loader_iter = iter(train_loader)"
   ]
  },
  {
   "cell_type": "code",
   "execution_count": 30,
   "id": "appropriate-orchestra",
   "metadata": {
    "colab": {
     "base_uri": "https://localhost:8080/"
    },
    "executionInfo": {
     "elapsed": 521,
     "status": "ok",
     "timestamp": 1629912814154,
     "user": {
      "displayName": "Michael Kalinin",
      "photoUrl": "",
      "userId": "11292695338697887397"
     },
     "user_tz": -180
    },
    "id": "appropriate-orchestra",
    "outputId": "4988f12d-1b94-4d38-aa9b-b1962531f68f"
   },
   "outputs": [
    {
     "data": {
      "text/plain": [
       "(torch.Size([4, 1, 64, 256, 256]), torch.Size([4]))"
      ]
     },
     "execution_count": 30,
     "metadata": {},
     "output_type": "execute_result"
    }
   ],
   "source": [
    "x_batch, y_batch = next(train_loader_iter)\n",
    "x_batch.shape, y_batch.shape"
   ]
  },
  {
   "cell_type": "code",
   "execution_count": 41,
   "id": "nGr2U7Iqkl4k",
   "metadata": {
    "colab": {
     "base_uri": "https://localhost:8080/"
    },
    "executionInfo": {
     "elapsed": 9,
     "status": "ok",
     "timestamp": 1629882936517,
     "user": {
      "displayName": "Michael Kalinin",
      "photoUrl": "",
      "userId": "11292695338697887397"
     },
     "user_tz": -180
    },
    "id": "nGr2U7Iqkl4k",
    "outputId": "d960dccc-8365-42a8-8daa-b02354c5928a"
   },
   "outputs": [
    {
     "data": {
      "text/plain": [
       "(torch.float64, torch.int64)"
      ]
     },
     "execution_count": 41,
     "metadata": {},
     "output_type": "execute_result"
    }
   ],
   "source": [
    "x_batch.dtype, y_batch.dtype"
   ]
  },
  {
   "cell_type": "code",
   "execution_count": 42,
   "id": "axpt77VlkvEM",
   "metadata": {
    "executionInfo": {
     "elapsed": 257,
     "status": "ok",
     "timestamp": 1629882936768,
     "user": {
      "displayName": "Michael Kalinin",
      "photoUrl": "",
      "userId": "11292695338697887397"
     },
     "user_tz": -180
    },
    "id": "axpt77VlkvEM"
   },
   "outputs": [],
   "source": [
    "x_batch = x_batch.type(torch.float32)"
   ]
  },
  {
   "cell_type": "code",
   "execution_count": 43,
   "id": "vital-skill",
   "metadata": {
    "executionInfo": {
     "elapsed": 4,
     "status": "ok",
     "timestamp": 1629882936768,
     "user": {
      "displayName": "Michael Kalinin",
      "photoUrl": "",
      "userId": "11292695338697887397"
     },
     "user_tz": -180
    },
    "id": "vital-skill"
   },
   "outputs": [],
   "source": [
    "# y_batch = y_batch.long()\n",
    "# y_batch = y_batch.type(torch.LongTensor)"
   ]
  },
  {
   "cell_type": "code",
   "execution_count": 44,
   "id": "median-writing",
   "metadata": {
    "colab": {
     "base_uri": "https://localhost:8080/"
    },
    "executionInfo": {
     "elapsed": 4,
     "status": "ok",
     "timestamp": 1629882936768,
     "user": {
      "displayName": "Michael Kalinin",
      "photoUrl": "",
      "userId": "11292695338697887397"
     },
     "user_tz": -180
    },
    "id": "median-writing",
    "outputId": "ee4fb08d-6ccd-4d77-bd75-9b2ff27dc19a"
   },
   "outputs": [
    {
     "data": {
      "text/plain": [
       "(tensor([1, 1, 1, 0]), torch.int64)"
      ]
     },
     "execution_count": 44,
     "metadata": {},
     "output_type": "execute_result"
    }
   ],
   "source": [
    "y_batch, y_batch.dtype"
   ]
  },
  {
   "cell_type": "markdown",
   "id": "crazy-locking",
   "metadata": {
    "id": "crazy-locking"
   },
   "source": [
    "# Profiling"
   ]
  },
  {
   "cell_type": "code",
   "execution_count": null,
   "id": "following-thompson",
   "metadata": {
    "id": "following-thompson"
   },
   "outputs": [],
   "source": [
    "from torch.profiler import profile, record_function, ProfilerActivity"
   ]
  },
  {
   "cell_type": "code",
   "execution_count": null,
   "id": "unusual-mathematics",
   "metadata": {
    "id": "unusual-mathematics"
   },
   "outputs": [],
   "source": [
    "from utils import get_num_of_params"
   ]
  },
  {
   "cell_type": "code",
   "execution_count": null,
   "id": "clinical-weekly",
   "metadata": {
    "id": "clinical-weekly"
   },
   "outputs": [],
   "source": [
    "N, C, D, H, W = 5, 1, 32, 32, 32\n",
    "X = torch.randn(N, C, D, H, W)"
   ]
  },
  {
   "cell_type": "code",
   "execution_count": null,
   "id": "graphic-mobile",
   "metadata": {
    "id": "graphic-mobile"
   },
   "outputs": [],
   "source": [
    "model = Simple3DNet()"
   ]
  },
  {
   "cell_type": "code",
   "execution_count": null,
   "id": "nervous-thought",
   "metadata": {
    "colab": {
     "base_uri": "https://localhost:8080/"
    },
    "executionInfo": {
     "elapsed": 285,
     "status": "ok",
     "timestamp": 1629623051974,
     "user": {
      "displayName": "Michael Kalinin",
      "photoUrl": "",
      "userId": "11292695338697887397"
     },
     "user_tz": -180
    },
    "id": "nervous-thought",
    "outputId": "c603d43f-d180-4eeb-eb06-ede2eba98d91"
   },
   "outputs": [
    {
     "data": {
      "text/plain": [
       "1107905"
      ]
     },
     "execution_count": 33,
     "metadata": {},
     "output_type": "execute_result"
    }
   ],
   "source": [
    "get_num_of_params(model)"
   ]
  },
  {
   "cell_type": "code",
   "execution_count": null,
   "id": "incredible-initial",
   "metadata": {
    "colab": {
     "base_uri": "https://localhost:8080/",
     "height": 35
    },
    "executionInfo": {
     "elapsed": 18,
     "status": "ok",
     "timestamp": 1629622245742,
     "user": {
      "displayName": "Michael Kalinin",
      "photoUrl": "",
      "userId": "11292695338697887397"
     },
     "user_tz": -180
    },
    "id": "incredible-initial",
    "outputId": "fd4b6f8e-084d-4180-bcf2-7582af5d7034"
   },
   "outputs": [
    {
     "data": {
      "application/vnd.google.colaboratory.intrinsic+json": {
       "type": "string"
      },
      "text/plain": [
       "'1.9.0+cu102'"
      ]
     },
     "execution_count": 22,
     "metadata": {},
     "output_type": "execute_result"
    }
   ],
   "source": [
    "torch.__version__"
   ]
  },
  {
   "cell_type": "code",
   "execution_count": null,
   "id": "chubby-giant",
   "metadata": {
    "id": "chubby-giant"
   },
   "outputs": [],
   "source": [
    "with profile(activities=[ProfilerActivity.CPU], record_shapes=True) as prof:\n",
    "    with record_function(\"model_inference\"):\n",
    "        model(X)"
   ]
  },
  {
   "cell_type": "code",
   "execution_count": null,
   "id": "textile-guard",
   "metadata": {
    "colab": {
     "base_uri": "https://localhost:8080/"
    },
    "executionInfo": {
     "elapsed": 12,
     "status": "ok",
     "timestamp": 1629624116424,
     "user": {
      "displayName": "Michael Kalinin",
      "photoUrl": "",
      "userId": "11292695338697887397"
     },
     "user_tz": -180
    },
    "id": "textile-guard",
    "outputId": "8966fc65-4983-4097-b4b0-ef36528cab42"
   },
   "outputs": [
    {
     "name": "stdout",
     "output_type": "stream",
     "text": [
      "---------------------------------  ------------  ------------  ------------  ------------  ------------  ------------  \n",
      "                             Name    Self CPU %      Self CPU   CPU total %     CPU total  CPU time avg    # of Calls  \n",
      "---------------------------------  ------------  ------------  ------------  ------------  ------------  ------------  \n",
      "                  model_inference         1.18%       2.844ms        99.98%     241.917ms     241.917ms             1  \n",
      "                     aten::conv3d         0.02%      37.000us        64.56%     156.219ms      52.073ms             3  \n",
      "                aten::convolution         0.01%      34.000us        64.55%     156.182ms      52.061ms             3  \n",
      "               aten::_convolution         0.03%      68.000us        64.54%     156.148ms      52.049ms             3  \n",
      "         aten::mkldnn_convolution        64.35%     155.709ms        64.51%     156.080ms      52.027ms             3  \n",
      "                 aten::max_pool3d         0.02%      43.000us        29.29%      70.867ms      23.622ms             3  \n",
      "    aten::max_pool3d_with_indices        29.21%      70.677ms        29.27%      70.824ms      23.608ms             3  \n",
      "                  aten::clamp_min         4.81%      11.643ms         9.61%      23.250ms       3.875ms             6  \n",
      "                       aten::relu         0.03%      65.000us         4.84%      11.718ms       3.906ms             3  \n",
      "                      aten::empty         0.16%     386.000us         0.16%     386.000us      25.733us            15  \n",
      "---------------------------------  ------------  ------------  ------------  ------------  ------------  ------------  \n",
      "Self CPU time total: 241.957ms\n",
      "\n"
     ]
    }
   ],
   "source": [
    "print(prof.key_averages().table(sort_by=\"cpu_time_total\", row_limit=10))"
   ]
  },
  {
   "cell_type": "code",
   "execution_count": null,
   "id": "86MnZC_jFBXC",
   "metadata": {
    "colab": {
     "base_uri": "https://localhost:8080/"
    },
    "executionInfo": {
     "elapsed": 286,
     "status": "ok",
     "timestamp": 1629622872171,
     "user": {
      "displayName": "Michael Kalinin",
      "photoUrl": "",
      "userId": "11292695338697887397"
     },
     "user_tz": -180
    },
    "id": "86MnZC_jFBXC",
    "outputId": "1b6eb7a2-7c8f-41c3-abcf-cd9598044a57"
   },
   "outputs": [
    {
     "name": "stdout",
     "output_type": "stream",
     "text": [
      "---------------------------------  ------------  ------------  ------------  ------------  ------------  ------------  --------------------------------------------------------------------------------  \n",
      "                             Name    Self CPU %      Self CPU   CPU total %     CPU total  CPU time avg    # of Calls                                                                      Input Shapes  \n",
      "---------------------------------  ------------  ------------  ------------  ------------  ------------  ------------  --------------------------------------------------------------------------------  \n",
      "                  model_inference         3.03%      13.457ms        99.99%     443.455ms     443.455ms             1                                                                                []  \n",
      "                     aten::conv3d         0.01%      25.000us        39.04%     173.136ms     173.136ms             1                        [[5, 1, 32, 32, 32], [64, 1, 3, 3, 3], [], [], [], [], []]  \n",
      "                aten::convolution         0.00%      13.000us        39.03%     173.111ms     173.111ms             1                [[5, 1, 32, 32, 32], [64, 1, 3, 3, 3], [], [], [], [], [], [], []]  \n",
      "               aten::_convolution         0.01%      38.000us        39.03%     173.098ms     173.098ms             1  [[5, 1, 32, 32, 32], [64, 1, 3, 3, 3], [], [], [], [], [], [], [], [], [], [], [  \n",
      "         aten::mkldnn_convolution        38.98%     172.884ms        39.02%     173.060ms     173.060ms             1                        [[5, 1, 32, 32, 32], [64, 1, 3, 3, 3], [], [], [], [], []]  \n",
      "                     aten::conv3d         0.00%       9.000us        19.71%      87.413ms      87.413ms             1                     [[5, 64, 16, 16, 16], [128, 64, 3, 3, 3], [], [], [], [], []]  \n",
      "                aten::convolution         0.00%      10.000us        19.71%      87.404ms      87.404ms             1             [[5, 64, 16, 16, 16], [128, 64, 3, 3, 3], [], [], [], [], [], [], []]  \n",
      "               aten::_convolution         0.00%      17.000us        19.71%      87.394ms      87.394ms             1  [[5, 64, 16, 16, 16], [128, 64, 3, 3, 3], [], [], [], [], [], [], [], [], [], []  \n",
      "         aten::mkldnn_convolution        19.68%      87.293ms        19.70%      87.377ms      87.377ms             1                     [[5, 64, 16, 16, 16], [128, 64, 3, 3, 3], [], [], [], [], []]  \n",
      "                 aten::max_pool3d         0.01%      27.000us        14.86%      65.901ms      65.901ms             1                                         [[5, 64, 32, 32, 32], [], [], [], [], []]  \n",
      "---------------------------------  ------------  ------------  ------------  ------------  ------------  ------------  --------------------------------------------------------------------------------  \n",
      "Self CPU time total: 443.486ms\n",
      "\n"
     ]
    }
   ],
   "source": [
    "print(prof.key_averages(group_by_input_shape=True).table(sort_by=\"cpu_time_total\", row_limit=10))"
   ]
  },
  {
   "cell_type": "code",
   "execution_count": null,
   "id": "wVfgi7DwGQWg",
   "metadata": {
    "id": "wVfgi7DwGQWg"
   },
   "outputs": [],
   "source": [
    "# model = Simple3DNet().to(device)\n",
    "# X = torch.randn(N, C, D, H, W).to(device)\n",
    "\n",
    "model = Simple3DNet()\n",
    "X = torch.randn(N, C, D, H, W)"
   ]
  },
  {
   "cell_type": "code",
   "execution_count": null,
   "id": "boufO-D8ILsW",
   "metadata": {
    "id": "boufO-D8ILsW"
   },
   "outputs": [],
   "source": [
    "with profile(\n",
    "    activities=[ProfilerActivity.CPU, ProfilerActivity.CUDA],\n",
    "    profile_memory=True,\n",
    "    record_shapes=True\n",
    ") as prof:\n",
    "    with record_function(\"model_inference\"):\n",
    "        model(X)"
   ]
  },
  {
   "cell_type": "code",
   "execution_count": null,
   "id": "E9mRnrvLILky",
   "metadata": {
    "colab": {
     "base_uri": "https://localhost:8080/"
    },
    "executionInfo": {
     "elapsed": 5,
     "status": "ok",
     "timestamp": 1629624293846,
     "user": {
      "displayName": "Michael Kalinin",
      "photoUrl": "",
      "userId": "11292695338697887397"
     },
     "user_tz": -180
    },
    "id": "E9mRnrvLILky",
    "outputId": "ef1f1cce-97f5-47df-dfff-4a61e256526a"
   },
   "outputs": [
    {
     "name": "stdout",
     "output_type": "stream",
     "text": [
      "---------------------------------  ------------  ------------  ------------  ------------  ------------  ------------  ------------  ------------  \n",
      "                             Name    Self CPU %      Self CPU   CPU total %     CPU total  CPU time avg       CPU Mem  Self CPU Mem    # of Calls  \n",
      "---------------------------------  ------------  ------------  ------------  ------------  ------------  ------------  ------------  ------------  \n",
      "                  aten::clamp_min         5.34%      12.196ms        10.67%      24.356ms       4.059ms     105.00 Mb      52.50 Mb             6  \n",
      "                      aten::empty         0.05%     116.000us         0.05%     116.000us       7.733us      52.50 Mb      52.50 Mb            15  \n",
      "                     aten::conv3d         0.01%      29.000us        63.12%     144.145ms      48.048ms      52.50 Mb           0 b             3  \n",
      "                aten::convolution         0.01%      32.000us        63.11%     144.116ms      48.039ms      52.50 Mb           0 b             3  \n",
      "               aten::_convolution         0.02%      57.000us        63.09%     144.084ms      48.028ms      52.50 Mb           0 b             3  \n",
      "         aten::mkldnn_convolution        63.04%     143.963ms        63.07%     144.027ms      48.009ms      52.50 Mb           0 b             3  \n",
      "                       aten::relu         0.03%      69.000us         5.38%      12.275ms       4.092ms      52.50 Mb           0 b             3  \n",
      "                 aten::max_pool3d         0.02%      39.000us        30.29%      69.161ms      23.054ms      19.69 Mb           0 b             3  \n",
      "    aten::max_pool3d_with_indices        30.24%      69.058ms        30.27%      69.122ms      23.041ms      19.69 Mb           0 b             3  \n",
      "                    aten::resize_         0.02%      49.000us         0.02%      49.000us       8.167us      19.69 Mb      19.69 Mb             6  \n",
      "---------------------------------  ------------  ------------  ------------  ------------  ------------  ------------  ------------  ------------  \n",
      "Self CPU time total: 228.364ms\n",
      "\n"
     ]
    }
   ],
   "source": [
    "# cpu_memory_usage\n",
    "\n",
    "# cuda_time_total\n",
    "\n",
    "print(prof.key_averages().table(sort_by=\"cpu_memory_usage\", row_limit=10))"
   ]
  },
  {
   "cell_type": "code",
   "execution_count": null,
   "id": "Jnqmv-nfIKta",
   "metadata": {
    "id": "Jnqmv-nfIKta"
   },
   "outputs": [],
   "source": []
  },
  {
   "cell_type": "code",
   "execution_count": null,
   "id": "Aon_6dVUyu4t",
   "metadata": {
    "id": "Aon_6dVUyu4t"
   },
   "outputs": [],
   "source": []
  },
  {
   "cell_type": "markdown",
   "id": "Nz51LN-bE79q",
   "metadata": {
    "id": "Nz51LN-bE79q"
   },
   "source": [
    "# Memory management"
   ]
  },
  {
   "cell_type": "code",
   "execution_count": 31,
   "id": "em6z-GMfyxwJ",
   "metadata": {
    "executionInfo": {
     "elapsed": 593,
     "status": "ok",
     "timestamp": 1629912849679,
     "user": {
      "displayName": "Michael Kalinin",
      "photoUrl": "",
      "userId": "11292695338697887397"
     },
     "user_tz": -180
    },
    "id": "em6z-GMfyxwJ"
   },
   "outputs": [],
   "source": [
    "def display_memory():\n",
    "    torch.cuda.empty_cache()\n",
    "    memory = torch.cuda.memory_allocated(device)\n",
    "    print(\"{:.3f} GB\".format(memory / 1024 ** 3))"
   ]
  },
  {
   "cell_type": "code",
   "execution_count": 32,
   "id": "LS_ouMBxOlUy",
   "metadata": {
    "colab": {
     "base_uri": "https://localhost:8080/"
    },
    "executionInfo": {
     "elapsed": 10051,
     "status": "ok",
     "timestamp": 1629912860145,
     "user": {
      "displayName": "Michael Kalinin",
      "photoUrl": "",
      "userId": "11292695338697887397"
     },
     "user_tz": -180
    },
    "id": "LS_ouMBxOlUy",
    "outputId": "483d0e64-5628-4f4a-9451-1b2f6c1716c9"
   },
   "outputs": [
    {
     "name": "stdout",
     "output_type": "stream",
     "text": [
      "0.000 GB\n",
      "0.062 GB\n"
     ]
    }
   ],
   "source": [
    "display_memory()\n",
    "X = torch.randn(4, 1, 64, 256, 256).to(device)\n",
    "display_memory() # 256*256*256*4 / 1024 ** 3"
   ]
  },
  {
   "cell_type": "code",
   "execution_count": 36,
   "id": "Cy2wuYrxEV5h",
   "metadata": {
    "colab": {
     "base_uri": "https://localhost:8080/"
    },
    "executionInfo": {
     "elapsed": 552,
     "status": "ok",
     "timestamp": 1629912914247,
     "user": {
      "displayName": "Michael Kalinin",
      "photoUrl": "",
      "userId": "11292695338697887397"
     },
     "user_tz": -180
    },
    "id": "Cy2wuYrxEV5h",
    "outputId": "baccc53f-4adb-4589-f217-7d4e3d57578e"
   },
   "outputs": [
    {
     "name": "stdout",
     "output_type": "stream",
     "text": [
      "0.068 GB\n",
      "torch.Size([4, 1])\n",
      "0.971 GB\n",
      "0.068 GB\n",
      "CPU times: user 221 ms, sys: 54.6 ms, total: 275 ms\n",
      "Wall time: 274 ms\n"
     ]
    }
   ],
   "source": [
    "%%time\n",
    "\n",
    "display_memory()\n",
    "\n",
    "model = Simple3DNet().to(device)\n",
    "# model = ResNet3D().to(device)\n",
    "\n",
    "output = model(X)\n",
    "print(output.shape)\n",
    "\n",
    "display_memory()\n",
    "del output\n",
    "display_memory()"
   ]
  },
  {
   "cell_type": "code",
   "execution_count": null,
   "id": "original-demonstration",
   "metadata": {
    "id": "original-demonstration"
   },
   "outputs": [],
   "source": [
    "# model"
   ]
  },
  {
   "cell_type": "code",
   "execution_count": null,
   "id": "bkzjySisMrHo",
   "metadata": {
    "id": "bkzjySisMrHo"
   },
   "outputs": [],
   "source": [
    "# when we can do this during training?\n",
    "# we do not need actually?\n",
    "# del output"
   ]
  },
  {
   "cell_type": "markdown",
   "id": "cardiovascular-viewer",
   "metadata": {
    "id": "cardiovascular-viewer"
   },
   "source": [
    "# Single model path"
   ]
  },
  {
   "cell_type": "code",
   "execution_count": null,
   "id": "narrative-thumbnail",
   "metadata": {
    "id": "narrative-thumbnail"
   },
   "outputs": [],
   "source": [
    "model = Simple3DNet()"
   ]
  },
  {
   "cell_type": "code",
   "execution_count": null,
   "id": "5fPlVyNvqlJT",
   "metadata": {
    "id": "5fPlVyNvqlJT",
    "outputId": "b5394f3f-4cfd-4078-ae17-c82a0a87ef0e"
   },
   "outputs": [
    {
     "name": "stdout",
     "output_type": "stream",
     "text": [
      "CPU times: user 30.1 s, sys: 5.37 s, total: 35.5 s\n",
      "Wall time: 34.9 s\n"
     ]
    },
    {
     "data": {
      "text/plain": [
       "torch.Size([5, 1])"
      ]
     },
     "execution_count": 25,
     "metadata": {},
     "output_type": "execute_result"
    }
   ],
   "source": [
    "%%time\n",
    "N, C, D, H, W = 5, 1, 26, 256, 256\n",
    "X = torch.randn(N, C, D, H, W)\n",
    "\n",
    "output = model(X)\n",
    "output.shape"
   ]
  },
  {
   "cell_type": "code",
   "execution_count": null,
   "id": "julian-international",
   "metadata": {
    "id": "julian-international"
   },
   "outputs": [],
   "source": [
    "# del output"
   ]
  },
  {
   "cell_type": "code",
   "execution_count": null,
   "id": "welsh-sacramento",
   "metadata": {
    "colab": {
     "base_uri": "https://localhost:8080/"
    },
    "executionInfo": {
     "elapsed": 24290,
     "status": "ok",
     "timestamp": 1629647779210,
     "user": {
      "displayName": "Michael Kalinin",
      "photoUrl": "",
      "userId": "11292695338697887397"
     },
     "user_tz": -180
    },
    "id": "welsh-sacramento",
    "outputId": "a096d81b-58b1-4643-99a3-4c644ddf822d"
   },
   "outputs": [
    {
     "name": "stdout",
     "output_type": "stream",
     "text": [
      "CPU times: user 21.5 s, sys: 1.84 s, total: 23.4 s\n",
      "Wall time: 23.4 s\n"
     ]
    }
   ],
   "source": [
    "%%time\n",
    "output = model(x_batch)\n",
    "output.shape"
   ]
  },
  {
   "cell_type": "code",
   "execution_count": null,
   "id": "KF7KPmPjk9IY",
   "metadata": {
    "colab": {
     "base_uri": "https://localhost:8080/"
    },
    "executionInfo": {
     "elapsed": 851,
     "status": "ok",
     "timestamp": 1629647789125,
     "user": {
      "displayName": "Michael Kalinin",
      "photoUrl": "",
      "userId": "11292695338697887397"
     },
     "user_tz": -180
    },
    "id": "KF7KPmPjk9IY",
    "outputId": "54ec4d38-aae3-4003-ca79-cd9133b9e254"
   },
   "outputs": [
    {
     "data": {
      "text/plain": [
       "torch.Size([4, 1])"
      ]
     },
     "execution_count": 47,
     "metadata": {},
     "output_type": "execute_result"
    }
   ],
   "source": [
    "output.shape"
   ]
  },
  {
   "cell_type": "code",
   "execution_count": null,
   "id": "documented-welcome",
   "metadata": {
    "id": "documented-welcome"
   },
   "outputs": [],
   "source": [
    "criterion = nn.BCEWithLogitsLoss()"
   ]
  },
  {
   "cell_type": "code",
   "execution_count": null,
   "id": "bound-convenience",
   "metadata": {
    "id": "bound-convenience"
   },
   "outputs": [],
   "source": [
    "# output.dtype, y_batch.dtype"
   ]
  },
  {
   "cell_type": "code",
   "execution_count": null,
   "id": "municipal-messenger",
   "metadata": {
    "id": "municipal-messenger"
   },
   "outputs": [],
   "source": [
    "y_batch = y_batch.type_as(output)\n",
    "loss = criterion(output.squeeze(1), y_batch)"
   ]
  },
  {
   "cell_type": "code",
   "execution_count": null,
   "id": "japanese-birmingham",
   "metadata": {
    "colab": {
     "base_uri": "https://localhost:8080/"
    },
    "executionInfo": {
     "elapsed": 342,
     "status": "ok",
     "timestamp": 1629647800017,
     "user": {
      "displayName": "Michael Kalinin",
      "photoUrl": "",
      "userId": "11292695338697887397"
     },
     "user_tz": -180
    },
    "id": "japanese-birmingham",
    "outputId": "89835b5a-d536-4cec-bfc6-825f9c17ff71"
   },
   "outputs": [
    {
     "data": {
      "text/plain": [
       "tensor(0.6934, grad_fn=<BinaryCrossEntropyWithLogitsBackward>)"
      ]
     },
     "execution_count": 51,
     "metadata": {},
     "output_type": "execute_result"
    }
   ],
   "source": [
    "loss"
   ]
  },
  {
   "cell_type": "code",
   "execution_count": null,
   "id": "adjusted-nightlife",
   "metadata": {
    "colab": {
     "base_uri": "https://localhost:8080/"
    },
    "executionInfo": {
     "elapsed": 405,
     "status": "ok",
     "timestamp": 1629647803658,
     "user": {
      "displayName": "Michael Kalinin",
      "photoUrl": "",
      "userId": "11292695338697887397"
     },
     "user_tz": -180
    },
    "id": "adjusted-nightlife",
    "outputId": "7f4cf475-cb65-4fd5-9a41-9e3657d92936"
   },
   "outputs": [
    {
     "data": {
      "text/plain": [
       "(tensor([[0.0432],\n",
       "         [0.0432],\n",
       "         [0.0433],\n",
       "         [0.0432]], grad_fn=<AddmmBackward>), tensor([0., 1., 0., 1.]))"
      ]
     },
     "execution_count": 52,
     "metadata": {},
     "output_type": "execute_result"
    }
   ],
   "source": [
    "output, y_batch"
   ]
  },
  {
   "cell_type": "code",
   "execution_count": null,
   "id": "leading-tumor",
   "metadata": {
    "colab": {
     "base_uri": "https://localhost:8080/"
    },
    "executionInfo": {
     "elapsed": 7,
     "status": "ok",
     "timestamp": 1629647808985,
     "user": {
      "displayName": "Michael Kalinin",
      "photoUrl": "",
      "userId": "11292695338697887397"
     },
     "user_tz": -180
    },
    "id": "leading-tumor",
    "outputId": "b25aa562-8762-46b7-9933-4bc8079342df"
   },
   "outputs": [
    {
     "data": {
      "text/plain": [
       "(torch.Size([4, 1]), torch.Size([4]))"
      ]
     },
     "execution_count": 53,
     "metadata": {},
     "output_type": "execute_result"
    }
   ],
   "source": [
    "output.shape, y_batch.shape"
   ]
  },
  {
   "cell_type": "code",
   "execution_count": null,
   "id": "developmental-housing",
   "metadata": {
    "colab": {
     "base_uri": "https://localhost:8080/"
    },
    "executionInfo": {
     "elapsed": 550,
     "status": "ok",
     "timestamp": 1629648106026,
     "user": {
      "displayName": "Michael Kalinin",
      "photoUrl": "",
      "userId": "11292695338697887397"
     },
     "user_tz": -180
    },
    "id": "developmental-housing",
    "outputId": "79174946-292b-4259-b7ed-bf7e1febe88b"
   },
   "outputs": [
    {
     "data": {
      "text/plain": [
       "(tensor([True, True, True, True]), torch.Size([4]))"
      ]
     },
     "execution_count": 59,
     "metadata": {},
     "output_type": "execute_result"
    }
   ],
   "source": [
    "y_pred = (output.squeeze(1) > 0)\n",
    "# y_pred = torch.sigmoid(output)\n",
    "# y_pred = y_pred > 0.5\n",
    "y_pred, y_pred.shape"
   ]
  },
  {
   "cell_type": "code",
   "execution_count": null,
   "id": "limiting-garden",
   "metadata": {
    "colab": {
     "base_uri": "https://localhost:8080/"
    },
    "executionInfo": {
     "elapsed": 17,
     "status": "ok",
     "timestamp": 1629648108835,
     "user": {
      "displayName": "Michael Kalinin",
      "photoUrl": "",
      "userId": "11292695338697887397"
     },
     "user_tz": -180
    },
    "id": "limiting-garden",
    "outputId": "dce30c24-1a2a-4852-c5b5-56521cfad97d"
   },
   "outputs": [
    {
     "data": {
      "text/plain": [
       "tensor(2)"
      ]
     },
     "execution_count": 60,
     "metadata": {},
     "output_type": "execute_result"
    }
   ],
   "source": [
    "correct_samples = torch.sum(y_pred == y_batch)\n",
    "correct_samples"
   ]
  },
  {
   "cell_type": "code",
   "execution_count": null,
   "id": "downtown-force",
   "metadata": {
    "colab": {
     "base_uri": "https://localhost:8080/"
    },
    "executionInfo": {
     "elapsed": 361,
     "status": "ok",
     "timestamp": 1629648111435,
     "user": {
      "displayName": "Michael Kalinin",
      "photoUrl": "",
      "userId": "11292695338697887397"
     },
     "user_tz": -180
    },
    "id": "downtown-force",
    "outputId": "cb4bafba-ebc7-4f69-ff5a-1b8c004db5ef"
   },
   "outputs": [
    {
     "data": {
      "text/plain": [
       "4"
      ]
     },
     "execution_count": 61,
     "metadata": {},
     "output_type": "execute_result"
    }
   ],
   "source": [
    "y_batch.shape[0]"
   ]
  },
  {
   "cell_type": "markdown",
   "id": "angry-territory",
   "metadata": {
    "id": "angry-territory"
   },
   "source": [
    "# Setup custom dataset"
   ]
  },
  {
   "cell_type": "code",
   "execution_count": 45,
   "id": "hEUf6dv3Ur1V",
   "metadata": {
    "colab": {
     "base_uri": "https://localhost:8080/"
    },
    "executionInfo": {
     "elapsed": 226,
     "status": "ok",
     "timestamp": 1629882951189,
     "user": {
      "displayName": "Michael Kalinin",
      "photoUrl": "",
      "userId": "11292695338697887397"
     },
     "user_tz": -180
    },
    "id": "hEUf6dv3Ur1V",
    "outputId": "5138fbaa-8a4c-4a3e-d2d8-12f682e5be12"
   },
   "outputs": [
    {
     "name": "stdout",
     "output_type": "stream",
     "text": [
      "0.069 GB\n"
     ]
    }
   ],
   "source": [
    "display_memory()"
   ]
  },
  {
   "cell_type": "code",
   "execution_count": null,
   "id": "funny-pursuit",
   "metadata": {
    "colab": {
     "base_uri": "https://localhost:8080/",
     "height": 204
    },
    "executionInfo": {
     "elapsed": 7,
     "status": "ok",
     "timestamp": 1629716723736,
     "user": {
      "displayName": "Michael Kalinin",
      "photoUrl": "",
      "userId": "11292695338697887397"
     },
     "user_tz": -180
    },
    "id": "funny-pursuit",
    "outputId": "bbf98a07-463e-41cb-d33c-3e85cc33e379"
   },
   "outputs": [
    {
     "data": {
      "text/html": [
       "<div>\n",
       "<style scoped>\n",
       "    .dataframe tbody tr th:only-of-type {\n",
       "        vertical-align: middle;\n",
       "    }\n",
       "\n",
       "    .dataframe tbody tr th {\n",
       "        vertical-align: top;\n",
       "    }\n",
       "\n",
       "    .dataframe thead th {\n",
       "        text-align: right;\n",
       "    }\n",
       "</style>\n",
       "<table border=\"1\" class=\"dataframe\">\n",
       "  <thead>\n",
       "    <tr style=\"text-align: right;\">\n",
       "      <th></th>\n",
       "      <th>BraTS21ID</th>\n",
       "      <th>MGMT_value</th>\n",
       "      <th>FLAIR_count</th>\n",
       "      <th>T1w_count</th>\n",
       "      <th>T1wCE_count</th>\n",
       "      <th>T2w_count</th>\n",
       "    </tr>\n",
       "  </thead>\n",
       "  <tbody>\n",
       "    <tr>\n",
       "      <th>0</th>\n",
       "      <td>17</td>\n",
       "      <td>0</td>\n",
       "      <td>74</td>\n",
       "      <td>28</td>\n",
       "      <td>231</td>\n",
       "      <td>87</td>\n",
       "    </tr>\n",
       "    <tr>\n",
       "      <th>1</th>\n",
       "      <td>54</td>\n",
       "      <td>1</td>\n",
       "      <td>72</td>\n",
       "      <td>27</td>\n",
       "      <td>240</td>\n",
       "      <td>82</td>\n",
       "    </tr>\n",
       "    <tr>\n",
       "      <th>2</th>\n",
       "      <td>6</td>\n",
       "      <td>1</td>\n",
       "      <td>68</td>\n",
       "      <td>28</td>\n",
       "      <td>89</td>\n",
       "      <td>270</td>\n",
       "    </tr>\n",
       "    <tr>\n",
       "      <th>3</th>\n",
       "      <td>98</td>\n",
       "      <td>1</td>\n",
       "      <td>73</td>\n",
       "      <td>30</td>\n",
       "      <td>249</td>\n",
       "      <td>73</td>\n",
       "    </tr>\n",
       "    <tr>\n",
       "      <th>4</th>\n",
       "      <td>53</td>\n",
       "      <td>0</td>\n",
       "      <td>74</td>\n",
       "      <td>29</td>\n",
       "      <td>243</td>\n",
       "      <td>300</td>\n",
       "    </tr>\n",
       "  </tbody>\n",
       "</table>\n",
       "</div>"
      ],
      "text/plain": [
       "   BraTS21ID  MGMT_value  FLAIR_count  T1w_count  T1wCE_count  T2w_count\n",
       "0         17           0           74         28          231         87\n",
       "1         54           1           72         27          240         82\n",
       "2          6           1           68         28           89        270\n",
       "3         98           1           73         30          249         73\n",
       "4         53           0           74         29          243        300"
      ]
     },
     "execution_count": 229,
     "metadata": {},
     "output_type": "execute_result"
    }
   ],
   "source": [
    "train_number = 32\n",
    "\n",
    "train_df_0 = train_labels_df[\n",
    "    (train_labels_df['FLAIR_count'] < 75) &\n",
    "    (train_labels_df['FLAIR_count'] > 60) &\n",
    "    (train_labels_df['MGMT_value'] == 0)]\n",
    "\n",
    "train_df_0 = train_df_0.sample(frac=1).head(train_number//2)\n",
    "\n",
    "train_df_1 = train_labels_df[\n",
    "    (train_labels_df['FLAIR_count'] < 75) &\n",
    "    (train_labels_df['FLAIR_count'] > 60) &\n",
    "    (train_labels_df['MGMT_value'] == 1)]\n",
    "\n",
    "train_df_1 = train_df_1.sample(frac=1).head(train_number//2)\n",
    "\n",
    "train_df = pd.concat([train_df_0, train_df_1]).sample(frac=1).reset_index(drop=True)"
   ]
  },
  {
   "cell_type": "code",
   "execution_count": 74,
   "id": "x5TjMbMxQ9_J",
   "metadata": {
    "executionInfo": {
     "elapsed": 292,
     "status": "ok",
     "timestamp": 1629886002087,
     "user": {
      "displayName": "Michael Kalinin",
      "photoUrl": "",
      "userId": "11292695338697887397"
     },
     "user_tz": -180
    },
    "id": "x5TjMbMxQ9_J"
   },
   "outputs": [],
   "source": [
    "train_number = 256\n",
    "train_df = train_labels_df.sample(frac=1).head(train_number).reset_index(drop=True)"
   ]
  },
  {
   "cell_type": "code",
   "execution_count": 75,
   "id": "UQy2knLARTE8",
   "metadata": {
    "colab": {
     "base_uri": "https://localhost:8080/",
     "height": 221
    },
    "executionInfo": {
     "elapsed": 277,
     "status": "ok",
     "timestamp": 1629886003696,
     "user": {
      "displayName": "Michael Kalinin",
      "photoUrl": "",
      "userId": "11292695338697887397"
     },
     "user_tz": -180
    },
    "id": "UQy2knLARTE8",
    "outputId": "8e7219e4-f870-457e-b245-1475d4624474"
   },
   "outputs": [
    {
     "name": "stdout",
     "output_type": "stream",
     "text": [
      "(256, 6)\n"
     ]
    },
    {
     "data": {
      "text/html": [
       "<div>\n",
       "<style scoped>\n",
       "    .dataframe tbody tr th:only-of-type {\n",
       "        vertical-align: middle;\n",
       "    }\n",
       "\n",
       "    .dataframe tbody tr th {\n",
       "        vertical-align: top;\n",
       "    }\n",
       "\n",
       "    .dataframe thead th {\n",
       "        text-align: right;\n",
       "    }\n",
       "</style>\n",
       "<table border=\"1\" class=\"dataframe\">\n",
       "  <thead>\n",
       "    <tr style=\"text-align: right;\">\n",
       "      <th></th>\n",
       "      <th>BraTS21ID</th>\n",
       "      <th>MGMT_value</th>\n",
       "      <th>FLAIR_count</th>\n",
       "      <th>T1w_count</th>\n",
       "      <th>T1wCE_count</th>\n",
       "      <th>T2w_count</th>\n",
       "    </tr>\n",
       "  </thead>\n",
       "  <tbody>\n",
       "    <tr>\n",
       "      <th>0</th>\n",
       "      <td>496</td>\n",
       "      <td>0</td>\n",
       "      <td>113</td>\n",
       "      <td>147</td>\n",
       "      <td>147</td>\n",
       "      <td>270</td>\n",
       "    </tr>\n",
       "    <tr>\n",
       "      <th>1</th>\n",
       "      <td>657</td>\n",
       "      <td>0</td>\n",
       "      <td>146</td>\n",
       "      <td>146</td>\n",
       "      <td>146</td>\n",
       "      <td>283</td>\n",
       "    </tr>\n",
       "    <tr>\n",
       "      <th>2</th>\n",
       "      <td>71</td>\n",
       "      <td>1</td>\n",
       "      <td>140</td>\n",
       "      <td>29</td>\n",
       "      <td>96</td>\n",
       "      <td>287</td>\n",
       "    </tr>\n",
       "    <tr>\n",
       "      <th>3</th>\n",
       "      <td>96</td>\n",
       "      <td>1</td>\n",
       "      <td>74</td>\n",
       "      <td>30</td>\n",
       "      <td>90</td>\n",
       "      <td>293</td>\n",
       "    </tr>\n",
       "    <tr>\n",
       "      <th>4</th>\n",
       "      <td>837</td>\n",
       "      <td>0</td>\n",
       "      <td>47</td>\n",
       "      <td>141</td>\n",
       "      <td>141</td>\n",
       "      <td>47</td>\n",
       "    </tr>\n",
       "  </tbody>\n",
       "</table>\n",
       "</div>"
      ],
      "text/plain": [
       "   BraTS21ID  MGMT_value  FLAIR_count  T1w_count  T1wCE_count  T2w_count\n",
       "0        496           0          113        147          147        270\n",
       "1        657           0          146        146          146        283\n",
       "2         71           1          140         29           96        287\n",
       "3         96           1           74         30           90        293\n",
       "4        837           0           47        141          141         47"
      ]
     },
     "execution_count": 75,
     "metadata": {},
     "output_type": "execute_result"
    }
   ],
   "source": [
    "print(train_df.shape)\n",
    "train_df.head()"
   ]
  },
  {
   "cell_type": "code",
   "execution_count": 76,
   "id": "TsJFUhR5RieL",
   "metadata": {
    "colab": {
     "base_uri": "https://localhost:8080/",
     "height": 285
    },
    "executionInfo": {
     "elapsed": 777,
     "status": "ok",
     "timestamp": 1629886009668,
     "user": {
      "displayName": "Michael Kalinin",
      "photoUrl": "",
      "userId": "11292695338697887397"
     },
     "user_tz": -180
    },
    "id": "TsJFUhR5RieL",
    "outputId": "c79dcd6c-7c3c-4bf8-8273-39bb6516611a"
   },
   "outputs": [
    {
     "data": {
      "text/plain": [
       "<matplotlib.axes._subplots.AxesSubplot at 0x7fbe57322c10>"
      ]
     },
     "execution_count": 76,
     "metadata": {},
     "output_type": "execute_result"
    },
    {
     "data": {
      "image/png": "[encoded data removed]",
      "text/plain": [
       "<Figure size 432x288 with 1 Axes>"
      ]
     },
     "metadata": {},
     "output_type": "display_data"
    }
   ],
   "source": [
    "train_df['FLAIR_count'].hist(bins=32)"
   ]
  },
  {
   "cell_type": "markdown",
   "id": "divided-stanley",
   "metadata": {},
   "source": [
    "# Run training"
   ]
  },
  {
   "cell_type": "code",
   "execution_count": 29,
   "id": "experimental-evanescence",
   "metadata": {},
   "outputs": [],
   "source": [
    "from main import run, main"
   ]
  },
  {
   "cell_type": "code",
   "execution_count": 20,
   "id": "soviet-inspector",
   "metadata": {},
   "outputs": [],
   "source": [
    "PATH_TO_DATA = './data/'\n",
    "# PATH_TO_DATA = '/content/'\n",
    "\n",
    "PATH_TO_IMG = os.path.join(PATH_TO_DATA, 'rsna-brain-tumor-data')"
   ]
  },
  {
   "cell_type": "code",
   "execution_count": 44,
   "id": "entitled-bunch",
   "metadata": {},
   "outputs": [
    {
     "name": "stdout",
     "output_type": "stream",
     "text": [
      "[run]\n",
      "[data] Dataset size: 585\n",
      "[data] Removing bad data...\n",
      "[data] Dataset size: 582\n",
      "[data] Dataset size, train: 466, valid: 116\n",
      "[data] Reduced dataset size, train: 10, valid: 10\n",
      "[data] DataLoader size, train: 5, valid: 5\n",
      "[train] started...\n",
      "[train] iter:    1, loss = 0.69391, score = 0.50000, time: 0:00:36\n",
      "[valid] iter:    1, loss = 0.69341, score = 0.40000, time: 0:00:36\n",
      "\n"
     ]
    },
    {
     "ename": "KeyboardInterrupt",
     "evalue": "",
     "output_type": "error",
     "traceback": [
      "\u001b[0;31m---------------------------------------------------------------------------\u001b[0m",
      "\u001b[0;31mKeyboardInterrupt\u001b[0m                         Traceback (most recent call last)",
      "\u001b[0;32m<ipython-input-44-e9e0bbc5bc59>\u001b[0m in \u001b[0;36m<module>\u001b[0;34m\u001b[0m\n\u001b[1;32m     41\u001b[0m \u001b[0;31m# model = ResNet3D().to(device)\u001b[0m\u001b[0;34m\u001b[0m\u001b[0;34m\u001b[0m\u001b[0;34m\u001b[0m\u001b[0m\n\u001b[1;32m     42\u001b[0m \u001b[0;34m\u001b[0m\u001b[0m\n\u001b[0;32m---> 43\u001b[0;31m \u001b[0mtrain_info\u001b[0m \u001b[0;34m=\u001b[0m \u001b[0mrun\u001b[0m\u001b[0;34m(\u001b[0m\u001b[0mmodel\u001b[0m\u001b[0;34m,\u001b[0m \u001b[0mdevice\u001b[0m\u001b[0;34m,\u001b[0m \u001b[0;34m**\u001b[0m\u001b[0mparams\u001b[0m\u001b[0;34m)\u001b[0m\u001b[0;34m\u001b[0m\u001b[0;34m\u001b[0m\u001b[0m\n\u001b[0m",
      "\u001b[0;32m~/Developer/ml/projects/rsna-brain-tumor/main.py\u001b[0m in \u001b[0;36mrun\u001b[0;34m(model, device, path_to_data, path_to_img, reduce_train, train_number, valid_number, batch_size_train, batch_size_valid, max_iter, valid_iters, learning_rate, weight_decay, verbose)\u001b[0m\n\u001b[1;32m    131\u001b[0m     )\n\u001b[1;32m    132\u001b[0m \u001b[0;34m\u001b[0m\u001b[0m\n\u001b[0;32m--> 133\u001b[0;31m     train_info = train_num_iter(\n\u001b[0m\u001b[1;32m    134\u001b[0m         \u001b[0mmodel\u001b[0m\u001b[0;34m,\u001b[0m \u001b[0mdevice\u001b[0m\u001b[0;34m,\u001b[0m\u001b[0;34m\u001b[0m\u001b[0;34m\u001b[0m\u001b[0m\n\u001b[1;32m    135\u001b[0m         \u001b[0mtrain_loader\u001b[0m\u001b[0;34m,\u001b[0m \u001b[0mvalid_loader\u001b[0m\u001b[0;34m,\u001b[0m\u001b[0;34m\u001b[0m\u001b[0;34m\u001b[0m\u001b[0m\n",
      "\u001b[0;32m~/Developer/ml/projects/rsna-brain-tumor/train.py\u001b[0m in \u001b[0;36mtrain_num_iter\u001b[0;34m(model, device, data_loader, valid_loader, criterion, optimizer, max_iter, valid_iters, verbose, print_every)\u001b[0m\n\u001b[1;32m     88\u001b[0m         \u001b[0my_batch\u001b[0m \u001b[0;34m=\u001b[0m \u001b[0my_batch\u001b[0m\u001b[0;34m.\u001b[0m\u001b[0mto\u001b[0m\u001b[0;34m(\u001b[0m\u001b[0mdevice\u001b[0m\u001b[0;34m,\u001b[0m \u001b[0mdtype\u001b[0m\u001b[0;34m=\u001b[0m\u001b[0mtorch\u001b[0m\u001b[0;34m.\u001b[0m\u001b[0mlong\u001b[0m\u001b[0;34m)\u001b[0m\u001b[0;34m\u001b[0m\u001b[0;34m\u001b[0m\u001b[0m\n\u001b[1;32m     89\u001b[0m \u001b[0;34m\u001b[0m\u001b[0m\n\u001b[0;32m---> 90\u001b[0;31m         \u001b[0moutput\u001b[0m \u001b[0;34m=\u001b[0m \u001b[0mmodel\u001b[0m\u001b[0;34m(\u001b[0m\u001b[0mx_batch\u001b[0m\u001b[0;34m)\u001b[0m\u001b[0;34m\u001b[0m\u001b[0;34m\u001b[0m\u001b[0m\n\u001b[0m\u001b[1;32m     91\u001b[0m \u001b[0;34m\u001b[0m\u001b[0m\n\u001b[1;32m     92\u001b[0m         \u001b[0;31m# TODO: will be faster to return float from the dataset?\u001b[0m\u001b[0;34m\u001b[0m\u001b[0;34m\u001b[0m\u001b[0;34m\u001b[0m\u001b[0m\n",
      "\u001b[0;32m~/Developer/ml/projects/p3env/lib/python3.8/site-packages/torch/nn/modules/module.py\u001b[0m in \u001b[0;36m_call_impl\u001b[0;34m(self, *input, **kwargs)\u001b[0m\n\u001b[1;32m    887\u001b[0m             \u001b[0mresult\u001b[0m \u001b[0;34m=\u001b[0m \u001b[0mself\u001b[0m\u001b[0;34m.\u001b[0m\u001b[0m_slow_forward\u001b[0m\u001b[0;34m(\u001b[0m\u001b[0;34m*\u001b[0m\u001b[0minput\u001b[0m\u001b[0;34m,\u001b[0m \u001b[0;34m**\u001b[0m\u001b[0mkwargs\u001b[0m\u001b[0;34m)\u001b[0m\u001b[0;34m\u001b[0m\u001b[0;34m\u001b[0m\u001b[0m\n\u001b[1;32m    888\u001b[0m         \u001b[0;32melse\u001b[0m\u001b[0;34m:\u001b[0m\u001b[0;34m\u001b[0m\u001b[0;34m\u001b[0m\u001b[0m\n\u001b[0;32m--> 889\u001b[0;31m             \u001b[0mresult\u001b[0m \u001b[0;34m=\u001b[0m \u001b[0mself\u001b[0m\u001b[0;34m.\u001b[0m\u001b[0mforward\u001b[0m\u001b[0;34m(\u001b[0m\u001b[0;34m*\u001b[0m\u001b[0minput\u001b[0m\u001b[0;34m,\u001b[0m \u001b[0;34m**\u001b[0m\u001b[0mkwargs\u001b[0m\u001b[0;34m)\u001b[0m\u001b[0;34m\u001b[0m\u001b[0;34m\u001b[0m\u001b[0m\n\u001b[0m\u001b[1;32m    890\u001b[0m         for hook in itertools.chain(\n\u001b[1;32m    891\u001b[0m                 \u001b[0m_global_forward_hooks\u001b[0m\u001b[0;34m.\u001b[0m\u001b[0mvalues\u001b[0m\u001b[0;34m(\u001b[0m\u001b[0;34m)\u001b[0m\u001b[0;34m,\u001b[0m\u001b[0;34m\u001b[0m\u001b[0;34m\u001b[0m\u001b[0m\n",
      "\u001b[0;32m~/Developer/ml/projects/rsna-brain-tumor/model_simple.py\u001b[0m in \u001b[0;36mforward\u001b[0;34m(self, x)\u001b[0m\n\u001b[1;32m     58\u001b[0m \u001b[0;34m\u001b[0m\u001b[0m\n\u001b[1;32m     59\u001b[0m     \u001b[0;32mdef\u001b[0m \u001b[0mforward\u001b[0m\u001b[0;34m(\u001b[0m\u001b[0mself\u001b[0m\u001b[0;34m,\u001b[0m \u001b[0mx\u001b[0m\u001b[0;34m)\u001b[0m\u001b[0;34m:\u001b[0m\u001b[0;34m\u001b[0m\u001b[0;34m\u001b[0m\u001b[0m\n\u001b[0;32m---> 60\u001b[0;31m         \u001b[0mx\u001b[0m \u001b[0;34m=\u001b[0m \u001b[0mself\u001b[0m\u001b[0;34m.\u001b[0m\u001b[0mbackbone\u001b[0m\u001b[0;34m(\u001b[0m\u001b[0mx\u001b[0m\u001b[0;34m)\u001b[0m\u001b[0;34m\u001b[0m\u001b[0;34m\u001b[0m\u001b[0m\n\u001b[0m\u001b[1;32m     61\u001b[0m         \u001b[0;31m# x = self.avgpool(x)\u001b[0m\u001b[0;34m\u001b[0m\u001b[0;34m\u001b[0m\u001b[0;34m\u001b[0m\u001b[0m\n\u001b[1;32m     62\u001b[0m         \u001b[0mx\u001b[0m \u001b[0;34m=\u001b[0m \u001b[0mtorch\u001b[0m\u001b[0;34m.\u001b[0m\u001b[0mflatten\u001b[0m\u001b[0;34m(\u001b[0m\u001b[0mx\u001b[0m\u001b[0;34m,\u001b[0m \u001b[0;36m1\u001b[0m\u001b[0;34m)\u001b[0m\u001b[0;34m\u001b[0m\u001b[0;34m\u001b[0m\u001b[0m\n",
      "\u001b[0;32m~/Developer/ml/projects/p3env/lib/python3.8/site-packages/torch/nn/modules/module.py\u001b[0m in \u001b[0;36m_call_impl\u001b[0;34m(self, *input, **kwargs)\u001b[0m\n\u001b[1;32m    887\u001b[0m             \u001b[0mresult\u001b[0m \u001b[0;34m=\u001b[0m \u001b[0mself\u001b[0m\u001b[0;34m.\u001b[0m\u001b[0m_slow_forward\u001b[0m\u001b[0;34m(\u001b[0m\u001b[0;34m*\u001b[0m\u001b[0minput\u001b[0m\u001b[0;34m,\u001b[0m \u001b[0;34m**\u001b[0m\u001b[0mkwargs\u001b[0m\u001b[0;34m)\u001b[0m\u001b[0;34m\u001b[0m\u001b[0;34m\u001b[0m\u001b[0m\n\u001b[1;32m    888\u001b[0m         \u001b[0;32melse\u001b[0m\u001b[0;34m:\u001b[0m\u001b[0;34m\u001b[0m\u001b[0;34m\u001b[0m\u001b[0m\n\u001b[0;32m--> 889\u001b[0;31m             \u001b[0mresult\u001b[0m \u001b[0;34m=\u001b[0m \u001b[0mself\u001b[0m\u001b[0;34m.\u001b[0m\u001b[0mforward\u001b[0m\u001b[0;34m(\u001b[0m\u001b[0;34m*\u001b[0m\u001b[0minput\u001b[0m\u001b[0;34m,\u001b[0m \u001b[0;34m**\u001b[0m\u001b[0mkwargs\u001b[0m\u001b[0;34m)\u001b[0m\u001b[0;34m\u001b[0m\u001b[0;34m\u001b[0m\u001b[0m\n\u001b[0m\u001b[1;32m    890\u001b[0m         for hook in itertools.chain(\n\u001b[1;32m    891\u001b[0m                 \u001b[0m_global_forward_hooks\u001b[0m\u001b[0;34m.\u001b[0m\u001b[0mvalues\u001b[0m\u001b[0;34m(\u001b[0m\u001b[0;34m)\u001b[0m\u001b[0;34m,\u001b[0m\u001b[0;34m\u001b[0m\u001b[0;34m\u001b[0m\u001b[0m\n",
      "\u001b[0;32m~/Developer/ml/projects/p3env/lib/python3.8/site-packages/torch/nn/modules/container.py\u001b[0m in \u001b[0;36mforward\u001b[0;34m(self, input)\u001b[0m\n\u001b[1;32m    117\u001b[0m     \u001b[0;32mdef\u001b[0m \u001b[0mforward\u001b[0m\u001b[0;34m(\u001b[0m\u001b[0mself\u001b[0m\u001b[0;34m,\u001b[0m \u001b[0minput\u001b[0m\u001b[0;34m)\u001b[0m\u001b[0;34m:\u001b[0m\u001b[0;34m\u001b[0m\u001b[0;34m\u001b[0m\u001b[0m\n\u001b[1;32m    118\u001b[0m         \u001b[0;32mfor\u001b[0m \u001b[0mmodule\u001b[0m \u001b[0;32min\u001b[0m \u001b[0mself\u001b[0m\u001b[0;34m:\u001b[0m\u001b[0;34m\u001b[0m\u001b[0;34m\u001b[0m\u001b[0m\n\u001b[0;32m--> 119\u001b[0;31m             \u001b[0minput\u001b[0m \u001b[0;34m=\u001b[0m \u001b[0mmodule\u001b[0m\u001b[0;34m(\u001b[0m\u001b[0minput\u001b[0m\u001b[0;34m)\u001b[0m\u001b[0;34m\u001b[0m\u001b[0;34m\u001b[0m\u001b[0m\n\u001b[0m\u001b[1;32m    120\u001b[0m         \u001b[0;32mreturn\u001b[0m \u001b[0minput\u001b[0m\u001b[0;34m\u001b[0m\u001b[0;34m\u001b[0m\u001b[0m\n\u001b[1;32m    121\u001b[0m \u001b[0;34m\u001b[0m\u001b[0m\n",
      "\u001b[0;32m~/Developer/ml/projects/p3env/lib/python3.8/site-packages/torch/nn/modules/module.py\u001b[0m in \u001b[0;36m_call_impl\u001b[0;34m(self, *input, **kwargs)\u001b[0m\n\u001b[1;32m    887\u001b[0m             \u001b[0mresult\u001b[0m \u001b[0;34m=\u001b[0m \u001b[0mself\u001b[0m\u001b[0;34m.\u001b[0m\u001b[0m_slow_forward\u001b[0m\u001b[0;34m(\u001b[0m\u001b[0;34m*\u001b[0m\u001b[0minput\u001b[0m\u001b[0;34m,\u001b[0m \u001b[0;34m**\u001b[0m\u001b[0mkwargs\u001b[0m\u001b[0;34m)\u001b[0m\u001b[0;34m\u001b[0m\u001b[0;34m\u001b[0m\u001b[0m\n\u001b[1;32m    888\u001b[0m         \u001b[0;32melse\u001b[0m\u001b[0;34m:\u001b[0m\u001b[0;34m\u001b[0m\u001b[0;34m\u001b[0m\u001b[0m\n\u001b[0;32m--> 889\u001b[0;31m             \u001b[0mresult\u001b[0m \u001b[0;34m=\u001b[0m \u001b[0mself\u001b[0m\u001b[0;34m.\u001b[0m\u001b[0mforward\u001b[0m\u001b[0;34m(\u001b[0m\u001b[0;34m*\u001b[0m\u001b[0minput\u001b[0m\u001b[0;34m,\u001b[0m \u001b[0;34m**\u001b[0m\u001b[0mkwargs\u001b[0m\u001b[0;34m)\u001b[0m\u001b[0;34m\u001b[0m\u001b[0;34m\u001b[0m\u001b[0m\n\u001b[0m\u001b[1;32m    890\u001b[0m         for hook in itertools.chain(\n\u001b[1;32m    891\u001b[0m                 \u001b[0m_global_forward_hooks\u001b[0m\u001b[0;34m.\u001b[0m\u001b[0mvalues\u001b[0m\u001b[0;34m(\u001b[0m\u001b[0;34m)\u001b[0m\u001b[0;34m,\u001b[0m\u001b[0;34m\u001b[0m\u001b[0;34m\u001b[0m\u001b[0m\n",
      "\u001b[0;32m~/Developer/ml/projects/p3env/lib/python3.8/site-packages/torch/nn/modules/conv.py\u001b[0m in \u001b[0;36mforward\u001b[0;34m(self, input)\u001b[0m\n\u001b[1;32m    518\u001b[0m                             \u001b[0mself\u001b[0m\u001b[0;34m.\u001b[0m\u001b[0mweight\u001b[0m\u001b[0;34m,\u001b[0m \u001b[0mself\u001b[0m\u001b[0;34m.\u001b[0m\u001b[0mbias\u001b[0m\u001b[0;34m,\u001b[0m \u001b[0mself\u001b[0m\u001b[0;34m.\u001b[0m\u001b[0mstride\u001b[0m\u001b[0;34m,\u001b[0m \u001b[0m_triple\u001b[0m\u001b[0;34m(\u001b[0m\u001b[0;36m0\u001b[0m\u001b[0;34m)\u001b[0m\u001b[0;34m,\u001b[0m\u001b[0;34m\u001b[0m\u001b[0;34m\u001b[0m\u001b[0m\n\u001b[1;32m    519\u001b[0m                             self.dilation, self.groups)\n\u001b[0;32m--> 520\u001b[0;31m         return F.conv3d(input, self.weight, self.bias, self.stride,\n\u001b[0m\u001b[1;32m    521\u001b[0m                         self.padding, self.dilation, self.groups)\n\u001b[1;32m    522\u001b[0m \u001b[0;34m\u001b[0m\u001b[0m\n",
      "\u001b[0;31mKeyboardInterrupt\u001b[0m: "
     ]
    }
   ],
   "source": [
    "params = dict(\n",
    "    path_to_data=PATH_TO_DATA,\n",
    "    path_to_img=PATH_TO_IMG,\n",
    "    reduce_train=False,\n",
    "    train_number=0,\n",
    "    valid_number=0,\n",
    "    \n",
    "    batch_size_train=8,\n",
    "    batch_size_valid=8,\n",
    "    max_iter=200,\n",
    "#     valid_iters = [1, 3, 5]\n",
    "    \n",
    "    learning_rate=0.001,\n",
    "    weight_decay=0,\n",
    ")\n",
    "\n",
    "# TODO: always validate at params['max_iter']-1 ?\n",
    "valid_iters = [10, 50, 100, 150, params['max_iter']-1]\n",
    "params['valid_iters'] = valid_iters\n",
    "\n",
    "\n",
    "# 1.\n",
    "# Debug (toy model?)\n",
    "params['batch_size_train'] = 2\n",
    "params['batch_size_valid'] = 2\n",
    "params['reduce_train'] = True # TODO: why it works faster when false ???\n",
    "params['train_number'] = 10\n",
    "params['valid_number'] = 10\n",
    "params['max_iter'] = 6\n",
    "params['valid_iters'] = [1, 3, 5]\n",
    "\n",
    "# 2.\n",
    "# Overfit small dataset\n",
    "# params['batch_size_train'] = 8\n",
    "# params['batch_size_valid'] = 8\n",
    "# params['reduce_train'] = True\n",
    "# params['train_number'] = 64\n",
    "# params['valid_number'] = 32\n",
    "# params['max_iter'] = 200\n",
    "\n",
    "\n",
    "model = Simple3DNet().to(device)\n",
    "# model = ResNet3D().to(device)\n",
    "\n",
    "train_info = run(model, device, **params)"
   ]
  },
  {
   "cell_type": "code",
   "execution_count": 43,
   "id": "recorded-luxembourg",
   "metadata": {},
   "outputs": [
    {
     "name": "stdout",
     "output_type": "stream",
     "text": [
      "[main]\n",
      "[device] No GPU available, using the CPU instead.\n",
      "\n",
      "[params]\n",
      "batch_size_train = 2\n",
      "batch_size_valid = 2\n",
      "max_iter = 6\n",
      "valid_iters = [1, 3, 5]\n",
      "learning_rate = 0.001\n",
      "weight_decay = 0\n",
      "\n",
      "[run]\n",
      "[data] Dataset size: 585\n",
      "[data] Removing bad data...\n",
      "[data] Dataset size: 582\n",
      "[data] Dataset size, train: 466, valid: 116\n",
      "[data] Reduced dataset size, train: 20, valid: 10\n",
      "[data] DataLoader size, train: 10, valid: 5\n",
      "[train] started...\n"
     ]
    },
    {
     "ename": "KeyboardInterrupt",
     "evalue": "",
     "output_type": "error",
     "traceback": [
      "\u001b[0;31m---------------------------------------------------------------------------\u001b[0m",
      "\u001b[0;31mKeyboardInterrupt\u001b[0m                         Traceback (most recent call last)",
      "\u001b[0;32m<ipython-input-43-622f621dc2ac>\u001b[0m in \u001b[0;36m<module>\u001b[0;34m\u001b[0m\n\u001b[0;32m----> 1\u001b[0;31m \u001b[0mtrain_info\u001b[0m \u001b[0;34m=\u001b[0m \u001b[0mmain\u001b[0m\u001b[0;34m(\u001b[0m\u001b[0mPATH_TO_DATA\u001b[0m\u001b[0;34m,\u001b[0m \u001b[0mPATH_TO_IMG\u001b[0m\u001b[0;34m)\u001b[0m\u001b[0;34m\u001b[0m\u001b[0;34m\u001b[0m\u001b[0m\n\u001b[0m",
      "\u001b[0;32m~/Developer/ml/projects/rsna-brain-tumor/main.py\u001b[0m in \u001b[0;36mmain\u001b[0;34m(path_to_data, path_to_img)\u001b[0m\n\u001b[1;32m    187\u001b[0m     \u001b[0mmodel\u001b[0m \u001b[0;34m=\u001b[0m \u001b[0mSimple3DNet\u001b[0m\u001b[0;34m(\u001b[0m\u001b[0;34m)\u001b[0m\u001b[0;34m.\u001b[0m\u001b[0mto\u001b[0m\u001b[0;34m(\u001b[0m\u001b[0mdevice\u001b[0m\u001b[0;34m)\u001b[0m\u001b[0;34m\u001b[0m\u001b[0;34m\u001b[0m\u001b[0m\n\u001b[1;32m    188\u001b[0m \u001b[0;34m\u001b[0m\u001b[0m\n\u001b[0;32m--> 189\u001b[0;31m     \u001b[0;32mreturn\u001b[0m \u001b[0mrun\u001b[0m\u001b[0;34m(\u001b[0m\u001b[0mmodel\u001b[0m\u001b[0;34m,\u001b[0m \u001b[0mdevice\u001b[0m\u001b[0;34m,\u001b[0m \u001b[0;34m**\u001b[0m\u001b[0mparams\u001b[0m\u001b[0;34m)\u001b[0m\u001b[0;34m\u001b[0m\u001b[0;34m\u001b[0m\u001b[0m\n\u001b[0m\u001b[1;32m    190\u001b[0m \u001b[0;34m\u001b[0m\u001b[0m\n\u001b[1;32m    191\u001b[0m \u001b[0;34m\u001b[0m\u001b[0m\n",
      "\u001b[0;32m~/Developer/ml/projects/rsna-brain-tumor/main.py\u001b[0m in \u001b[0;36mrun\u001b[0;34m(model, device, path_to_data, path_to_img, reduce_train, train_number, valid_number, batch_size_train, batch_size_valid, max_iter, valid_iters, learning_rate, weight_decay, verbose)\u001b[0m\n\u001b[1;32m    131\u001b[0m     )\n\u001b[1;32m    132\u001b[0m \u001b[0;34m\u001b[0m\u001b[0m\n\u001b[0;32m--> 133\u001b[0;31m     train_info = train_num_iter(\n\u001b[0m\u001b[1;32m    134\u001b[0m         \u001b[0mmodel\u001b[0m\u001b[0;34m,\u001b[0m \u001b[0mdevice\u001b[0m\u001b[0;34m,\u001b[0m\u001b[0;34m\u001b[0m\u001b[0;34m\u001b[0m\u001b[0m\n\u001b[1;32m    135\u001b[0m         \u001b[0mtrain_loader\u001b[0m\u001b[0;34m,\u001b[0m \u001b[0mvalid_loader\u001b[0m\u001b[0;34m,\u001b[0m\u001b[0;34m\u001b[0m\u001b[0;34m\u001b[0m\u001b[0m\n",
      "\u001b[0;32m~/Developer/ml/projects/rsna-brain-tumor/train.py\u001b[0m in \u001b[0;36mtrain_num_iter\u001b[0;34m(model, device, data_loader, valid_loader, criterion, optimizer, max_iter, valid_iters, verbose, print_every)\u001b[0m\n\u001b[1;32m    100\u001b[0m \u001b[0;34m\u001b[0m\u001b[0m\n\u001b[1;32m    101\u001b[0m         \u001b[0moptimizer\u001b[0m\u001b[0;34m.\u001b[0m\u001b[0mzero_grad\u001b[0m\u001b[0;34m(\u001b[0m\u001b[0;34m)\u001b[0m\u001b[0;34m\u001b[0m\u001b[0;34m\u001b[0m\u001b[0m\n\u001b[0;32m--> 102\u001b[0;31m         \u001b[0mloss\u001b[0m\u001b[0;34m.\u001b[0m\u001b[0mbackward\u001b[0m\u001b[0;34m(\u001b[0m\u001b[0;34m)\u001b[0m\u001b[0;34m\u001b[0m\u001b[0;34m\u001b[0m\u001b[0m\n\u001b[0m\u001b[1;32m    103\u001b[0m         \u001b[0moptimizer\u001b[0m\u001b[0;34m.\u001b[0m\u001b[0mstep\u001b[0m\u001b[0;34m(\u001b[0m\u001b[0;34m)\u001b[0m\u001b[0;34m\u001b[0m\u001b[0;34m\u001b[0m\u001b[0m\n\u001b[1;32m    104\u001b[0m \u001b[0;34m\u001b[0m\u001b[0m\n",
      "\u001b[0;32m~/Developer/ml/projects/p3env/lib/python3.8/site-packages/torch/tensor.py\u001b[0m in \u001b[0;36mbackward\u001b[0;34m(self, gradient, retain_graph, create_graph, inputs)\u001b[0m\n\u001b[1;32m    243\u001b[0m                 \u001b[0mcreate_graph\u001b[0m\u001b[0;34m=\u001b[0m\u001b[0mcreate_graph\u001b[0m\u001b[0;34m,\u001b[0m\u001b[0;34m\u001b[0m\u001b[0;34m\u001b[0m\u001b[0m\n\u001b[1;32m    244\u001b[0m                 inputs=inputs)\n\u001b[0;32m--> 245\u001b[0;31m         \u001b[0mtorch\u001b[0m\u001b[0;34m.\u001b[0m\u001b[0mautograd\u001b[0m\u001b[0;34m.\u001b[0m\u001b[0mbackward\u001b[0m\u001b[0;34m(\u001b[0m\u001b[0mself\u001b[0m\u001b[0;34m,\u001b[0m \u001b[0mgradient\u001b[0m\u001b[0;34m,\u001b[0m \u001b[0mretain_graph\u001b[0m\u001b[0;34m,\u001b[0m \u001b[0mcreate_graph\u001b[0m\u001b[0;34m,\u001b[0m \u001b[0minputs\u001b[0m\u001b[0;34m=\u001b[0m\u001b[0minputs\u001b[0m\u001b[0;34m)\u001b[0m\u001b[0;34m\u001b[0m\u001b[0;34m\u001b[0m\u001b[0m\n\u001b[0m\u001b[1;32m    246\u001b[0m \u001b[0;34m\u001b[0m\u001b[0m\n\u001b[1;32m    247\u001b[0m     \u001b[0;32mdef\u001b[0m \u001b[0mregister_hook\u001b[0m\u001b[0;34m(\u001b[0m\u001b[0mself\u001b[0m\u001b[0;34m,\u001b[0m \u001b[0mhook\u001b[0m\u001b[0;34m)\u001b[0m\u001b[0;34m:\u001b[0m\u001b[0;34m\u001b[0m\u001b[0;34m\u001b[0m\u001b[0m\n",
      "\u001b[0;32m~/Developer/ml/projects/p3env/lib/python3.8/site-packages/torch/autograd/__init__.py\u001b[0m in \u001b[0;36mbackward\u001b[0;34m(tensors, grad_tensors, retain_graph, create_graph, grad_variables, inputs)\u001b[0m\n\u001b[1;32m    143\u001b[0m         \u001b[0mretain_graph\u001b[0m \u001b[0;34m=\u001b[0m \u001b[0mcreate_graph\u001b[0m\u001b[0;34m\u001b[0m\u001b[0;34m\u001b[0m\u001b[0m\n\u001b[1;32m    144\u001b[0m \u001b[0;34m\u001b[0m\u001b[0m\n\u001b[0;32m--> 145\u001b[0;31m     Variable._execution_engine.run_backward(\n\u001b[0m\u001b[1;32m    146\u001b[0m         \u001b[0mtensors\u001b[0m\u001b[0;34m,\u001b[0m \u001b[0mgrad_tensors_\u001b[0m\u001b[0;34m,\u001b[0m \u001b[0mretain_graph\u001b[0m\u001b[0;34m,\u001b[0m \u001b[0mcreate_graph\u001b[0m\u001b[0;34m,\u001b[0m \u001b[0minputs\u001b[0m\u001b[0;34m,\u001b[0m\u001b[0;34m\u001b[0m\u001b[0;34m\u001b[0m\u001b[0m\n\u001b[1;32m    147\u001b[0m         allow_unreachable=True, accumulate_grad=True)  # allow_unreachable flag\n",
      "\u001b[0;31mKeyboardInterrupt\u001b[0m: "
     ]
    }
   ],
   "source": [
    "train_info = main(PATH_TO_DATA, PATH_TO_IMG)"
   ]
  },
  {
   "cell_type": "code",
   "execution_count": 38,
   "id": "spectacular-cologne",
   "metadata": {},
   "outputs": [
    {
     "data": {
      "image/png": "[encoded data removed]",
      "text/plain": [
       "<Figure size 1080x360 with 2 Axes>"
      ]
     },
     "metadata": {},
     "output_type": "display_data"
    }
   ],
   "source": [
    "loss_meter = train_info['train_loss_meter']\n",
    "score_meter = train_info['train_score_meter']\n",
    "show_trainig_results(loss_meter, score_meter)"
   ]
  },
  {
   "cell_type": "code",
   "execution_count": 39,
   "id": "divine-minute",
   "metadata": {},
   "outputs": [
    {
     "data": {
      "image/png": "[encoded data removed]",
      "text/plain": [
       "<Figure size 1080x360 with 2 Axes>"
      ]
     },
     "metadata": {},
     "output_type": "display_data"
    }
   ],
   "source": [
    "show_loss(train_info)"
   ]
  },
  {
   "cell_type": "code",
   "execution_count": 40,
   "id": "-wbM7Ped2bwJ",
   "metadata": {
    "colab": {
     "base_uri": "https://localhost:8080/",
     "height": 285
    },
    "executionInfo": {
     "elapsed": 666,
     "status": "ok",
     "timestamp": 1629890951870,
     "user": {
      "displayName": "Michael Kalinin",
      "photoUrl": "",
      "userId": "11292695338697887397"
     },
     "user_tz": -180
    },
    "id": "-wbM7Ped2bwJ",
    "outputId": "32af221d-bcc6-43b7-b41e-aaa588892357"
   },
   "outputs": [
    {
     "data": {
      "text/plain": [
       "[<matplotlib.lines.Line2D at 0x15af22c40>]"
      ]
     },
     "execution_count": 40,
     "metadata": {},
     "output_type": "execute_result"
    },
    {
     "data": {
      "image/png": "[encoded data removed]",
      "text/plain": [
       "<Figure size 432x288 with 1 Axes>"
      ]
     },
     "metadata": {},
     "output_type": "display_data"
    }
   ],
   "source": [
    "plt.plot(score_meter.get_outputs())"
   ]
  },
  {
   "cell_type": "markdown",
   "id": "aggregate-iceland",
   "metadata": {},
   "source": [
    "# Test validation"
   ]
  },
  {
   "cell_type": "code",
   "execution_count": 94,
   "id": "q0OtqEQdL1eC",
   "metadata": {
    "executionInfo": {
     "elapsed": 358,
     "status": "ok",
     "timestamp": 1629892944238,
     "user": {
      "displayName": "Michael Kalinin",
      "photoUrl": "",
      "userId": "11292695338697887397"
     },
     "user_tz": -180
    },
    "id": "q0OtqEQdL1eC"
   },
   "outputs": [],
   "source": [
    "from train import validate"
   ]
  },
  {
   "cell_type": "code",
   "execution_count": null,
   "id": "RodwTLOuMB4J",
   "metadata": {
    "colab": {
     "base_uri": "https://localhost:8080/"
    },
    "executionInfo": {
     "elapsed": 34594,
     "status": "ok",
     "timestamp": 1629893002795,
     "user": {
      "displayName": "Michael Kalinin",
      "photoUrl": "",
      "userId": "11292695338697887397"
     },
     "user_tz": -180
    },
    "id": "RodwTLOuMB4J",
    "outputId": "799af6db-572a-4234-decc-a1a21e138599"
   },
   "outputs": [
    {
     "name": "stdout",
     "output_type": "stream",
     "text": [
      "[valid] iter:    0, loss = 0.72866, score = 0.25000, time: 0:00:02\n",
      "[valid] iter:    5, loss = 0.60942, score = 0.70833, time: 0:00:14\n",
      "[valid] iter:   10, loss = 0.56438, score = 0.75000, time: 0:00:24\n"
     ]
    }
   ],
   "source": [
    "# TODO: Find the fastest valid_batch_size\n",
    "# increase val batch size until we can?\n",
    "# test separetly, see above section\n",
    "loss_meter, score_meter = validate(model, device, valid_loader, criterion, print_every=5)"
   ]
  },
  {
   "cell_type": "code",
   "execution_count": null,
   "id": "-rhD1QhxMbVW",
   "metadata": {
    "colab": {
     "base_uri": "https://localhost:8080/"
    },
    "executionInfo": {
     "elapsed": 251,
     "status": "ok",
     "timestamp": 1629893027700,
     "user": {
      "displayName": "Michael Kalinin",
      "photoUrl": "",
      "userId": "11292695338697887397"
     },
     "user_tz": -180
    },
    "id": "-rhD1QhxMbVW",
    "outputId": "72e18425-907e-41e6-e352-8d1757d44d92"
   },
   "outputs": [
    {
     "data": {
      "text/plain": [
       "0.717948717948718"
      ]
     },
     "execution_count": 101,
     "metadata": {},
     "output_type": "execute_result"
    }
   ],
   "source": [
    "score_meter.compute_score()"
   ]
  }
 ],
 "metadata": {
  "accelerator": "GPU",
  "colab": {
   "collapsed_sections": [
    "PqdgZT05kLUu",
    "yXOZzMNgjHqs",
    "q9b1Hb4jwBpP",
    "average-alpha",
    "crazy-locking",
    "cardiovascular-viewer",
    "angry-territory",
    "u9NhNpOyPmtv"
   ],
   "name": "rsna-brain-tumor-train.ipynb",
   "provenance": []
  },
  "kernelspec": {
   "display_name": "Python 3",
   "language": "python",
   "name": "python3"
  },
  "language_info": {
   "codemirror_mode": {
    "name": "ipython",
    "version": 3
   },
   "file_extension": ".py",
   "mimetype": "text/x-python",
   "name": "python",
   "nbconvert_exporter": "python",
   "pygments_lexer": "ipython3",
   "version": "3.8.2"
  }
 },
 "nbformat": 4,
 "nbformat_minor": 5
}
