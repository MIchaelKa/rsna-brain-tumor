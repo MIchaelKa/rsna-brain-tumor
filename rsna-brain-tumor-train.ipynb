{
 "cells": [
  {
   "cell_type": "code",
   "execution_count": 3,
   "id": "elder-spoke",
   "metadata": {},
   "outputs": [],
   "source": [
    "import os\n",
    "import pandas as pd\n",
    "import numpy as np\n",
    "\n",
    "import torch\n",
    "import torch.nn as nn\n",
    "\n",
    "from torch.utils.data import Dataset\n",
    "from torch.utils.data import DataLoader\n",
    "\n",
    "from PIL import Image\n",
    "\n",
    "import seaborn as sns\n",
    "import matplotlib.pyplot as plt\n",
    "\n",
    "sns.set()"
   ]
  },
  {
   "cell_type": "code",
   "execution_count": 4,
   "id": "monetary-dietary",
   "metadata": {},
   "outputs": [],
   "source": [
    "# Some more magic so that the notebook will reload external python modules;\n",
    "# see http://stackoverflow.com/questions/1907993/autoreload-of-modules-in-ipython\n",
    "%load_ext autoreload\n",
    "%autoreload 2"
   ]
  },
  {
   "cell_type": "markdown",
   "id": "secondary-ladder",
   "metadata": {},
   "source": [
    "# Define model"
   ]
  },
  {
   "cell_type": "code",
   "execution_count": 5,
   "id": "trying-pound",
   "metadata": {},
   "outputs": [],
   "source": [
    "class Simple3DNet(nn.Module):\n",
    "    def __init__(self):\n",
    "        super().__init__()\n",
    "        \n",
    "        self.backbone = nn.Sequential(\n",
    "            nn.Conv3d(1, 64, kernel_size=3, stride=1, padding=1, bias=False),\n",
    "#             nn.BatchNorm3d(64),\n",
    "            nn.ReLU(),\n",
    "            nn.MaxPool3d(2),\n",
    "            # 13x16x16\n",
    "            \n",
    "            nn.Conv3d(64, 128, kernel_size=3, stride=1, padding=1, bias=False),\n",
    "            nn.ReLU(),\n",
    "            nn.MaxPool3d(2),\n",
    "            # 6x8x8\n",
    "            \n",
    "            nn.Conv3d(128, 256, kernel_size=3, stride=1, padding=1, bias=False),\n",
    "            nn.ReLU(),\n",
    "            nn.MaxPool3d(2),\n",
    "            # 3x4x4\n",
    "        )\n",
    "        \n",
    "        self.avgpool = nn.AdaptiveAvgPool3d((1, 1, 1))\n",
    "        \n",
    "        self.fc = nn.Linear(256, 1)\n",
    "        \n",
    "#         self.fc = nn.Linear(256*3*4*4, 1)\n",
    "        \n",
    "        \n",
    "\n",
    "    def forward(self, x):  \n",
    "        x = self.backbone(x)\n",
    "        x = self.avgpool(x)\n",
    "        x = torch.flatten(x, 1)\n",
    "        x = self.fc(x)\n",
    "        return x"
   ]
  },
  {
   "cell_type": "code",
   "execution_count": 6,
   "id": "human-career",
   "metadata": {},
   "outputs": [
    {
     "data": {
      "text/plain": [
       "torch.Size([5, 1])"
      ]
     },
     "execution_count": 6,
     "metadata": {},
     "output_type": "execute_result"
    }
   ],
   "source": [
    "N, C, D, H, W = 5, 1, 26, 32, 32\n",
    "X = torch.randn(N, C, D, H, W)\n",
    "\n",
    "model = Simple3DNet()\n",
    "output = model(X)\n",
    "output.shape"
   ]
  },
  {
   "cell_type": "code",
   "execution_count": 7,
   "id": "atlantic-fifth",
   "metadata": {},
   "outputs": [
    {
     "data": {
      "text/plain": [
       "tensor([[-0.2033],\n",
       "        [-0.2078],\n",
       "        [-0.2022],\n",
       "        [-0.2064],\n",
       "        [-0.2061]], grad_fn=<AddmmBackward>)"
      ]
     },
     "execution_count": 7,
     "metadata": {},
     "output_type": "execute_result"
    }
   ],
   "source": [
    "output"
   ]
  },
  {
   "cell_type": "markdown",
   "id": "adapted-attribute",
   "metadata": {},
   "source": [
    "# Setup dataset"
   ]
  },
  {
   "cell_type": "code",
   "execution_count": 8,
   "id": "statutory-petroleum",
   "metadata": {},
   "outputs": [],
   "source": [
    "IMG_SIZE = 256\n",
    "PATH_TO_DATA = './data/'\n",
    "IMG_PATH_TRAIN = os.path.join(PATH_TO_DATA, 'rsna-brain-tumor-data', 'train')\n",
    "IMG_PATH_TEST = os.path.join(PATH_TO_DATA, 'rsna-brain-tumor-data', 'test')"
   ]
  },
  {
   "cell_type": "code",
   "execution_count": 9,
   "id": "decimal-criminal",
   "metadata": {},
   "outputs": [
    {
     "data": {
      "text/plain": [
       "(585, 2)"
      ]
     },
     "execution_count": 9,
     "metadata": {},
     "output_type": "execute_result"
    }
   ],
   "source": [
    "train_labels_df = pd.read_csv(PATH_TO_DATA + 'train_labels.csv')\n",
    "train_labels_df.shape"
   ]
  },
  {
   "cell_type": "code",
   "execution_count": 10,
   "id": "musical-british",
   "metadata": {},
   "outputs": [],
   "source": [
    "class Image3DDataset(Dataset):\n",
    "    def __init__(self, df, path, transform=None):\n",
    "\n",
    "        self.df = df\n",
    "        self.path = path\n",
    "        self.transform = transform\n",
    "        \n",
    "    def __len__(self):\n",
    "        return self.df.shape[0]\n",
    "    \n",
    "    def __getitem__(self, index):\n",
    "        label = train_labels_df['MGMT_value'][index]\n",
    "        case_id = train_labels_df['BraTS21ID'][index]\n",
    "        case_id = f'{case_id:0>5d}'\n",
    "\n",
    "        # - FLAIR\n",
    "        # - T1w\n",
    "        # - T1wCE\n",
    "        # - T2w\n",
    "        MRI_TYPE = 'FLAIR'\n",
    "        \n",
    "        images_path = os.path.join(IMG_PATH_TRAIN, case_id, MRI_TYPE)\n",
    "\n",
    "        # name = 'Image-100.png'\n",
    "        image_names = sorted(os.listdir(images_path), key=lambda name: int(name[6:][:-4]))\n",
    "        images = []\n",
    "        \n",
    "        for image_name in image_names:\n",
    "            image_path = os.path.join(images_path, image_name)\n",
    "            image = Image.open(image_path)\n",
    "            if self.transform:\n",
    "                image = self.transform(image)\n",
    "            \n",
    "            # H x W \n",
    "            image = np.array(image).astype(np.float32)\n",
    "            \n",
    "            # image -= 128?\n",
    "            image /= 255\n",
    "            \n",
    "            \n",
    "            # C x H x W\n",
    "            image = np.expand_dims(image, axis=0)\n",
    "                    \n",
    "            images.append(image)\n",
    "            \n",
    "        # C x D x H x W\n",
    "        image_3d = np.stack(images, axis=1)\n",
    "               \n",
    "        return image_3d, label"
   ]
  },
  {
   "cell_type": "code",
   "execution_count": 11,
   "id": "superior-filter",
   "metadata": {},
   "outputs": [],
   "source": [
    "from torchvision import transforms as T\n",
    "\n",
    "def get_train_transform(img_size):\n",
    "    transform = T.Compose([\n",
    "        T.Resize((img_size, img_size)),\n",
    "#         T.ToTensor(),\n",
    "        # T.Normalize(mean=[0.485, 0.456, 0.406],\n",
    "        #             std=[0.229, 0.224, 0.225])\n",
    "    ])\n",
    "    return transform"
   ]
  },
  {
   "cell_type": "code",
   "execution_count": 12,
   "id": "danish-password",
   "metadata": {},
   "outputs": [
    {
     "data": {
      "text/plain": [
       "585"
      ]
     },
     "execution_count": 12,
     "metadata": {},
     "output_type": "execute_result"
    }
   ],
   "source": [
    "train_dataset = Image3DDataset(train_labels_df, IMG_PATH_TRAIN, get_train_transform(IMG_SIZE))\n",
    "len(train_dataset)"
   ]
  },
  {
   "cell_type": "code",
   "execution_count": 13,
   "id": "dried-gather",
   "metadata": {},
   "outputs": [
    {
     "data": {
      "text/plain": [
       "(numpy.ndarray, (1, 67, 256, 256), 1)"
      ]
     },
     "execution_count": 13,
     "metadata": {},
     "output_type": "execute_result"
    }
   ],
   "source": [
    "image, label = train_dataset[1]\n",
    "type(image), image.shape, label"
   ]
  },
  {
   "cell_type": "code",
   "execution_count": 14,
   "id": "collectible-botswana",
   "metadata": {},
   "outputs": [
    {
     "data": {
      "text/plain": [
       "(65536,)"
      ]
     },
     "execution_count": 14,
     "metadata": {},
     "output_type": "execute_result"
    }
   ],
   "source": [
    "image[0, 40].reshape(-1).shape"
   ]
  },
  {
   "cell_type": "code",
   "execution_count": 15,
   "id": "finnish-shelter",
   "metadata": {},
   "outputs": [
    {
     "data": {
      "image/png": "[encoded data removed]",
      "text/plain": [
       "<Figure size 432x288 with 1 Axes>"
      ]
     },
     "metadata": {},
     "output_type": "display_data"
    }
   ],
   "source": [
    "plt.hist(image[0, 40].reshape(-1))\n",
    "plt.show()"
   ]
  },
  {
   "cell_type": "code",
   "execution_count": 22,
   "id": "least-resolution",
   "metadata": {},
   "outputs": [
    {
     "data": {
      "text/plain": [
       "585"
      ]
     },
     "execution_count": 22,
     "metadata": {},
     "output_type": "execute_result"
    }
   ],
   "source": [
    "# do we need to have equal D for all cases in batch?\n",
    "# looks like yes\n",
    "train_loader = DataLoader(train_dataset, batch_size=1, shuffle=True)\n",
    "len(train_loader)"
   ]
  },
  {
   "cell_type": "code",
   "execution_count": 23,
   "id": "stupid-friend",
   "metadata": {},
   "outputs": [],
   "source": [
    "train_loader_iter = iter(train_loader)"
   ]
  },
  {
   "cell_type": "code",
   "execution_count": 24,
   "id": "earned-allocation",
   "metadata": {},
   "outputs": [
    {
     "data": {
      "text/plain": [
       "(torch.Size([1, 1, 143, 256, 256]), torch.Size([1]))"
      ]
     },
     "execution_count": 24,
     "metadata": {},
     "output_type": "execute_result"
    }
   ],
   "source": [
    "x_batch, y_batch = next(train_loader_iter)\n",
    "x_batch.shape, y_batch.shape"
   ]
  },
  {
   "cell_type": "code",
   "execution_count": 25,
   "id": "legislative-active",
   "metadata": {},
   "outputs": [
    {
     "data": {
      "text/plain": [
       "tensor(0.9961)"
      ]
     },
     "execution_count": 25,
     "metadata": {},
     "output_type": "execute_result"
    }
   ],
   "source": [
    "x_batch.max()"
   ]
  },
  {
   "cell_type": "code",
   "execution_count": 26,
   "id": "final-stability",
   "metadata": {},
   "outputs": [],
   "source": [
    "# y_batch = y_batch.long()\n",
    "# y_batch = y_batch.type(torch.LongTensor)"
   ]
  },
  {
   "cell_type": "code",
   "execution_count": 27,
   "id": "adjusted-acrylic",
   "metadata": {},
   "outputs": [
    {
     "data": {
      "text/plain": [
       "(tensor([1]), torch.int64)"
      ]
     },
     "execution_count": 27,
     "metadata": {},
     "output_type": "execute_result"
    }
   ],
   "source": [
    "y_batch, y_batch.dtype"
   ]
  },
  {
   "cell_type": "markdown",
   "id": "attractive-niagara",
   "metadata": {},
   "source": [
    "# Single model path"
   ]
  },
  {
   "cell_type": "code",
   "execution_count": 28,
   "id": "racial-radar",
   "metadata": {},
   "outputs": [],
   "source": [
    "model = Simple3DNet()"
   ]
  },
  {
   "cell_type": "code",
   "execution_count": 29,
   "id": "lined-swedish",
   "metadata": {},
   "outputs": [
    {
     "name": "stdout",
     "output_type": "stream",
     "text": [
      "CPU times: user 28.6 s, sys: 5.67 s, total: 34.3 s\n",
      "Wall time: 34.7 s\n"
     ]
    },
    {
     "data": {
      "text/plain": [
       "torch.Size([1, 1])"
      ]
     },
     "execution_count": 29,
     "metadata": {},
     "output_type": "execute_result"
    }
   ],
   "source": [
    "%%time\n",
    "output = model(x_batch)\n",
    "output.shape"
   ]
  },
  {
   "cell_type": "code",
   "execution_count": 30,
   "id": "unexpected-density",
   "metadata": {},
   "outputs": [],
   "source": [
    "criterion = nn.BCEWithLogitsLoss()"
   ]
  },
  {
   "cell_type": "code",
   "execution_count": 31,
   "id": "temporal-leone",
   "metadata": {},
   "outputs": [],
   "source": [
    "# output.dtype, y_batch.dtype"
   ]
  },
  {
   "cell_type": "code",
   "execution_count": 33,
   "id": "surprised-meditation",
   "metadata": {},
   "outputs": [],
   "source": [
    "y_batch = y_batch.type_as(output)\n",
    "loss = criterion(output.squeeze(1), y_batch)"
   ]
  },
  {
   "cell_type": "code",
   "execution_count": 34,
   "id": "theoretical-screening",
   "metadata": {},
   "outputs": [
    {
     "data": {
      "text/plain": [
       "tensor(0.6997, grad_fn=<BinaryCrossEntropyWithLogitsBackward>)"
      ]
     },
     "execution_count": 34,
     "metadata": {},
     "output_type": "execute_result"
    }
   ],
   "source": [
    "loss"
   ]
  },
  {
   "cell_type": "code",
   "execution_count": 36,
   "id": "continent-winter",
   "metadata": {},
   "outputs": [
    {
     "data": {
      "text/plain": [
       "(tensor([[-0.0130]], grad_fn=<AddmmBackward>), tensor([1.]))"
      ]
     },
     "execution_count": 36,
     "metadata": {},
     "output_type": "execute_result"
    }
   ],
   "source": [
    "output, y_batch"
   ]
  },
  {
   "cell_type": "code",
   "execution_count": 37,
   "id": "solved-roads",
   "metadata": {},
   "outputs": [
    {
     "data": {
      "text/plain": [
       "(torch.Size([1, 1]), torch.Size([1]))"
      ]
     },
     "execution_count": 37,
     "metadata": {},
     "output_type": "execute_result"
    }
   ],
   "source": [
    "output.shape, y_batch.shape"
   ]
  },
  {
   "cell_type": "code",
   "execution_count": 39,
   "id": "julian-missile",
   "metadata": {},
   "outputs": [
    {
     "data": {
      "text/plain": [
       "tensor([0])"
      ]
     },
     "execution_count": 39,
     "metadata": {},
     "output_type": "execute_result"
    }
   ],
   "source": [
    "indices = torch.argmax(output, 1)\n",
    "indices"
   ]
  },
  {
   "cell_type": "code",
   "execution_count": 58,
   "id": "anonymous-resource",
   "metadata": {},
   "outputs": [
    {
     "data": {
      "text/plain": [
       "torch.Size([1, 1])"
      ]
     },
     "execution_count": 58,
     "metadata": {},
     "output_type": "execute_result"
    }
   ],
   "source": [
    "y_pred = (output > 0)\n",
    "# y_pred = torch.sigmoid(output)\n",
    "# y_pred = y_pred > 0.5\n",
    "y_pred.shape"
   ]
  },
  {
   "cell_type": "code",
   "execution_count": 57,
   "id": "incident-amplifier",
   "metadata": {},
   "outputs": [
    {
     "data": {
      "text/plain": [
       "tensor(0)"
      ]
     },
     "execution_count": 57,
     "metadata": {},
     "output_type": "execute_result"
    }
   ],
   "source": [
    "correct_samples = torch.sum(y_pred == y_batch)\n",
    "correct_samples"
   ]
  },
  {
   "cell_type": "code",
   "execution_count": 59,
   "id": "aware-actress",
   "metadata": {},
   "outputs": [
    {
     "data": {
      "text/plain": [
       "1"
      ]
     },
     "execution_count": 59,
     "metadata": {},
     "output_type": "execute_result"
    }
   ],
   "source": [
    "y_batch.shape[0]"
   ]
  },
  {
   "cell_type": "markdown",
   "id": "massive-movie",
   "metadata": {},
   "source": [
    "# Overfit small dataset"
   ]
  },
  {
   "cell_type": "code",
   "execution_count": 29,
   "id": "medical-divide",
   "metadata": {},
   "outputs": [
    {
     "data": {
      "text/html": [
       "<div>\n",
       "<style scoped>\n",
       "    .dataframe tbody tr th:only-of-type {\n",
       "        vertical-align: middle;\n",
       "    }\n",
       "\n",
       "    .dataframe tbody tr th {\n",
       "        vertical-align: top;\n",
       "    }\n",
       "\n",
       "    .dataframe thead th {\n",
       "        text-align: right;\n",
       "    }\n",
       "</style>\n",
       "<table border=\"1\" class=\"dataframe\">\n",
       "  <thead>\n",
       "    <tr style=\"text-align: right;\">\n",
       "      <th></th>\n",
       "      <th>BraTS21ID</th>\n",
       "      <th>MGMT_value</th>\n",
       "    </tr>\n",
       "  </thead>\n",
       "  <tbody>\n",
       "    <tr>\n",
       "      <th>0</th>\n",
       "      <td>9</td>\n",
       "      <td>0</td>\n",
       "    </tr>\n",
       "    <tr>\n",
       "      <th>1</th>\n",
       "      <td>1009</td>\n",
       "      <td>0</td>\n",
       "    </tr>\n",
       "    <tr>\n",
       "      <th>2</th>\n",
       "      <td>432</td>\n",
       "      <td>0</td>\n",
       "    </tr>\n",
       "    <tr>\n",
       "      <th>3</th>\n",
       "      <td>366</td>\n",
       "      <td>1</td>\n",
       "    </tr>\n",
       "    <tr>\n",
       "      <th>4</th>\n",
       "      <td>731</td>\n",
       "      <td>1</td>\n",
       "    </tr>\n",
       "    <tr>\n",
       "      <th>5</th>\n",
       "      <td>532</td>\n",
       "      <td>1</td>\n",
       "    </tr>\n",
       "    <tr>\n",
       "      <th>6</th>\n",
       "      <td>488</td>\n",
       "      <td>1</td>\n",
       "    </tr>\n",
       "    <tr>\n",
       "      <th>7</th>\n",
       "      <td>309</td>\n",
       "      <td>0</td>\n",
       "    </tr>\n",
       "    <tr>\n",
       "      <th>8</th>\n",
       "      <td>270</td>\n",
       "      <td>1</td>\n",
       "    </tr>\n",
       "    <tr>\n",
       "      <th>9</th>\n",
       "      <td>588</td>\n",
       "      <td>0</td>\n",
       "    </tr>\n",
       "  </tbody>\n",
       "</table>\n",
       "</div>"
      ],
      "text/plain": [
       "   BraTS21ID  MGMT_value\n",
       "0          9           0\n",
       "1       1009           0\n",
       "2        432           0\n",
       "3        366           1\n",
       "4        731           1\n",
       "5        532           1\n",
       "6        488           1\n",
       "7        309           0\n",
       "8        270           1\n",
       "9        588           0"
      ]
     },
     "execution_count": 29,
     "metadata": {},
     "output_type": "execute_result"
    }
   ],
   "source": [
    "train_number = 10\n",
    "train_df = train_labels_df.sample(frac=1).reset_index(drop=True).head(train_number)\n",
    "train_df"
   ]
  },
  {
   "cell_type": "code",
   "execution_count": 30,
   "id": "registered-range",
   "metadata": {},
   "outputs": [
    {
     "data": {
      "text/plain": [
       "10"
      ]
     },
     "execution_count": 30,
     "metadata": {},
     "output_type": "execute_result"
    }
   ],
   "source": [
    "train_dataset = Image3DDataset(train_df, IMG_PATH_TRAIN, get_train_transform(IMG_SIZE))\n",
    "len(train_dataset)"
   ]
  },
  {
   "cell_type": "code",
   "execution_count": 31,
   "id": "united-latex",
   "metadata": {},
   "outputs": [
    {
     "data": {
      "text/plain": [
       "10"
      ]
     },
     "execution_count": 31,
     "metadata": {},
     "output_type": "execute_result"
    }
   ],
   "source": [
    "train_loader = DataLoader(train_dataset, batch_size=1, shuffle=True)\n",
    "len(train_loader)"
   ]
  },
  {
   "cell_type": "code",
   "execution_count": 32,
   "id": "steady-priest",
   "metadata": {},
   "outputs": [],
   "source": [
    "from train import train_num_iter\n",
    "from utils import get_device"
   ]
  },
  {
   "cell_type": "code",
   "execution_count": 33,
   "id": "specified-saying",
   "metadata": {},
   "outputs": [
    {
     "name": "stdout",
     "output_type": "stream",
     "text": [
      "No GPU available, using the CPU instead.\n"
     ]
    }
   ],
   "source": [
    "device = get_device()"
   ]
  },
  {
   "cell_type": "code",
   "execution_count": 34,
   "id": "anticipated-spelling",
   "metadata": {},
   "outputs": [],
   "source": [
    "model = model.to(device)"
   ]
  },
  {
   "cell_type": "code",
   "execution_count": 35,
   "id": "descending-charger",
   "metadata": {},
   "outputs": [],
   "source": [
    "learning_rate = 0.001\n",
    "weight_decay = 0\n",
    "\n",
    "optimizer = torch.optim.SGD(\n",
    "    model.parameters(),\n",
    "    lr=learning_rate,\n",
    "    momentum=0.9,\n",
    "    weight_decay=weight_decay,\n",
    "    nesterov=True\n",
    ")"
   ]
  },
  {
   "cell_type": "code",
   "execution_count": null,
   "id": "diagnostic-brazilian",
   "metadata": {},
   "outputs": [
    {
     "name": "stdout",
     "output_type": "stream",
     "text": [
      "[train] iter:    0, loss = 0.69925, score = 0.00000, time: 0:00:45\n",
      "[train] iter:    1, loss = 0.69894, score = 0.00000, time: 0:01:32\n",
      "[train] iter:    2, loss = 0.69546, score = 0.33333, time: 0:00:43\n",
      "[train] iter:    3, loss = 0.69609, score = 0.25000, time: 0:00:41\n"
     ]
    }
   ],
   "source": [
    "max_iter = 10\n",
    "print_every = 1\n",
    "\n",
    "train_num_iter(model, device, train_loader, criterion, optimizer, max_iter, print_every=print_every)"
   ]
  },
  {
   "cell_type": "code",
   "execution_count": null,
   "id": "documented-vermont",
   "metadata": {},
   "outputs": [],
   "source": []
  }
 ],
 "metadata": {
  "kernelspec": {
   "display_name": "Python 3",
   "language": "python",
   "name": "python3"
  },
  "language_info": {
   "codemirror_mode": {
    "name": "ipython",
    "version": 3
   },
   "file_extension": ".py",
   "mimetype": "text/x-python",
   "name": "python",
   "nbconvert_exporter": "python",
   "pygments_lexer": "ipython3",
   "version": "3.8.2"
  }
 },
 "nbformat": 4,
 "nbformat_minor": 5
}
